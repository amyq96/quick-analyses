{
 "cells": [
  {
   "cell_type": "markdown",
   "id": "f112bc05-a851-4b56-902a-d9c2e05c39ae",
   "metadata": {},
   "source": [
    "# Create a metro Phoenix shapeile from Census shapefiles "
   ]
  },
  {
   "cell_type": "code",
   "execution_count": null,
   "id": "9fd0e551-dcd5-48c1-9c7c-84df77b7ad81",
   "metadata": {},
   "outputs": [],
   "source": [
    "# TK TK"
   ]
  }
 ],
 "metadata": {
  "kernelspec": {
   "display_name": "Python 3 (ipykernel)",
   "language": "python",
   "name": "python3"
  },
  "language_info": {
   "codemirror_mode": {
    "name": "ipython",
    "version": 3
   },
   "file_extension": ".py",
   "mimetype": "text/x-python",
   "name": "python",
   "nbconvert_exporter": "python",
   "pygments_lexer": "ipython3",
   "version": "3.10.4"
  }
 },
 "nbformat": 4,
 "nbformat_minor": 5
}
