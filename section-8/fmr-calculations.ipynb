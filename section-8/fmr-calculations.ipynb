{
 "cells": [
  {
   "cell_type": "markdown",
   "id": "eaf20da0-0213-41e8-915d-f5f977841e63",
   "metadata": {},
   "source": [
    "# Converting Fair Market Rents"
   ]
  },
  {
   "cell_type": "markdown",
   "id": "f58d51b6-e448-4020-a7e4-be42995bc797",
   "metadata": {},
   "source": [
    "This notebook does a quick converstion of Fair Market Rents to Payment Standards in lieu of actual historical payment standard data from the City of Phoenix Housing Authority. "
   ]
  },
  {
   "cell_type": "markdown",
   "id": "baf283a6-1454-4648-a836-dd21352cd7aa",
   "metadata": {},
   "source": [
    "## Methodology"
   ]
  },
  {
   "cell_type": "markdown",
   "id": "8c51be75-cfe7-4ea9-bd47-64a673fb89a6",
   "metadata": {},
   "source": [
    "A payment standard is a guideline for the maximum a local public housing authority will spend on rent for a voucher recipient. According to HUD, payment standards are calculated based on a \"basic range\" of 90-110% of the 40th percentile of the local Fair Market Rent, as calculated and published annually by HUD. More on that page 8 here: https://www.hud.gov/sites/dfiles/PIH/documents/HCV_Guidebook_Payment_Standards.pdf\n",
    "\n",
    "<br>\n",
    "\n",
    "We're assuming the payment standard used is at the highest end of the \"basic range\", so at 110% of the region's Fair Market Rent. That assumption is further validated by the published May 2022 payment standards, which are 110% of FMRs. That can be found here: https://www.phoenix.gov/housingsite/Documents/HCV_Payment_Standards_May2022.pdf\n",
    "\n",
    "<br>\n",
    "\n",
    "There is an exception, as of Dec. 2021, that housing authorities with an \"approved success rate payment standard\" can use payment standards of up to 120% of FMR, but that has not yet been implemented in Phoenix so we are not factoring that into our analysis. See here for the HUD memo on the exception: https://www.hud.gov/sites/dfiles/PIH/documents/PIH2021-34.pdf"
   ]
  },
  {
   "cell_type": "markdown",
   "id": "f5887b15-1376-468c-8ed7-b1c3b844ad60",
   "metadata": {},
   "source": [
    "## Conversion"
   ]
  },
  {
   "cell_type": "code",
   "execution_count": 1,
   "id": "b14616ae-4b88-4cd3-9359-b1faed215d18",
   "metadata": {},
   "outputs": [],
   "source": [
    "import pandas as pd"
   ]
  },
  {
   "cell_type": "code",
   "execution_count": 13,
   "id": "cc9845f3-812c-4834-b163-168a3b2a2a91",
   "metadata": {},
   "outputs": [],
   "source": [
    "#load 2017-2022 Phoenix MSA FMR data\n",
    "fmrs = pd.read_csv('/Users/amyqin/Documents/data/manual/fmrs_2017_2022.csv', header=0, index_col=0)"
   ]
  },
  {
   "cell_type": "code",
   "execution_count": 14,
   "id": "20c10756-5de1-42cf-aa6e-7fa92022e47c",
   "metadata": {},
   "outputs": [
    {
     "data": {
      "text/html": [
       "<div>\n",
       "<style scoped>\n",
       "    .dataframe tbody tr th:only-of-type {\n",
       "        vertical-align: middle;\n",
       "    }\n",
       "\n",
       "    .dataframe tbody tr th {\n",
       "        vertical-align: top;\n",
       "    }\n",
       "\n",
       "    .dataframe thead th {\n",
       "        text-align: right;\n",
       "    }\n",
       "</style>\n",
       "<table border=\"1\" class=\"dataframe\">\n",
       "  <thead>\n",
       "    <tr style=\"text-align: right;\">\n",
       "      <th></th>\n",
       "      <th>Efficiency</th>\n",
       "      <th>One-Bedroom</th>\n",
       "      <th>Two-Bedroom</th>\n",
       "      <th>Three-Bedroom</th>\n",
       "      <th>Four-Bedroom</th>\n",
       "    </tr>\n",
       "    <tr>\n",
       "      <th>Year</th>\n",
       "      <th></th>\n",
       "      <th></th>\n",
       "      <th></th>\n",
       "      <th></th>\n",
       "      <th></th>\n",
       "    </tr>\n",
       "  </thead>\n",
       "  <tbody>\n",
       "    <tr>\n",
       "      <th>FY 2022 FMR</th>\n",
       "      <td>1005</td>\n",
       "      <td>1091</td>\n",
       "      <td>1311</td>\n",
       "      <td>1825</td>\n",
       "      <td>2078</td>\n",
       "    </tr>\n",
       "    <tr>\n",
       "      <th>FY 2021 FMR</th>\n",
       "      <td>933</td>\n",
       "      <td>1032</td>\n",
       "      <td>1251</td>\n",
       "      <td>1765</td>\n",
       "      <td>2010</td>\n",
       "    </tr>\n",
       "    <tr>\n",
       "      <th>FY 2020 FMR</th>\n",
       "      <td>847</td>\n",
       "      <td>958</td>\n",
       "      <td>1173</td>\n",
       "      <td>1676</td>\n",
       "      <td>1916</td>\n",
       "    </tr>\n",
       "    <tr>\n",
       "      <th>FY 2019 FMR</th>\n",
       "      <td>744</td>\n",
       "      <td>868</td>\n",
       "      <td>1073</td>\n",
       "      <td>1551</td>\n",
       "      <td>1776</td>\n",
       "    </tr>\n",
       "    <tr>\n",
       "      <th>FY 2018 FMR</th>\n",
       "      <td>684</td>\n",
       "      <td>815</td>\n",
       "      <td>1013</td>\n",
       "      <td>1474</td>\n",
       "      <td>1697</td>\n",
       "    </tr>\n",
       "    <tr>\n",
       "      <th>FY 2017 FMR</th>\n",
       "      <td>624</td>\n",
       "      <td>757</td>\n",
       "      <td>944</td>\n",
       "      <td>1374</td>\n",
       "      <td>1594</td>\n",
       "    </tr>\n",
       "  </tbody>\n",
       "</table>\n",
       "</div>"
      ],
      "text/plain": [
       "             Efficiency  One-Bedroom  Two-Bedroom  Three-Bedroom  Four-Bedroom\n",
       "Year                                                                          \n",
       "FY 2022 FMR        1005         1091         1311           1825          2078\n",
       "FY 2021 FMR         933         1032         1251           1765          2010\n",
       "FY 2020 FMR         847          958         1173           1676          1916\n",
       "FY 2019 FMR         744          868         1073           1551          1776\n",
       "FY 2018 FMR         684          815         1013           1474          1697\n",
       "FY 2017 FMR         624          757          944           1374          1594"
      ]
     },
     "execution_count": 14,
     "metadata": {},
     "output_type": "execute_result"
    }
   ],
   "source": [
    "fmrs"
   ]
  },
  {
   "cell_type": "code",
   "execution_count": 19,
   "id": "35cc11b6-7514-4d0e-9aaf-091efdcc09f9",
   "metadata": {},
   "outputs": [],
   "source": [
    "#scale by 1.1 and create a dataframe for payment standards, ps\n",
    "ps = fmrs.copy()\n",
    "\n",
    "ps['Efficiency'] = ps['Efficiency'].apply(lambda x: x*1.1)\n",
    "ps['One-Bedroom'] = ps['One-Bedroom'].apply(lambda x: x*1.1)\n",
    "ps['Two-Bedroom'] = ps['Two-Bedroom'].apply(lambda x: x*1.1)\n",
    "ps['Three-Bedroom'] = ps['Three-Bedroom'].apply(lambda x: x*1.1)\n",
    "ps['Four-Bedroom'] = ps['Four-Bedroom'].apply(lambda x: x*1.1)"
   ]
  },
  {
   "cell_type": "code",
   "execution_count": 20,
   "id": "21fddc67-084a-4982-b589-ec93e816324e",
   "metadata": {},
   "outputs": [
    {
     "data": {
      "text/html": [
       "<div>\n",
       "<style scoped>\n",
       "    .dataframe tbody tr th:only-of-type {\n",
       "        vertical-align: middle;\n",
       "    }\n",
       "\n",
       "    .dataframe tbody tr th {\n",
       "        vertical-align: top;\n",
       "    }\n",
       "\n",
       "    .dataframe thead th {\n",
       "        text-align: right;\n",
       "    }\n",
       "</style>\n",
       "<table border=\"1\" class=\"dataframe\">\n",
       "  <thead>\n",
       "    <tr style=\"text-align: right;\">\n",
       "      <th></th>\n",
       "      <th>Efficiency</th>\n",
       "      <th>One-Bedroom</th>\n",
       "      <th>Two-Bedroom</th>\n",
       "      <th>Three-Bedroom</th>\n",
       "      <th>Four-Bedroom</th>\n",
       "    </tr>\n",
       "    <tr>\n",
       "      <th>Year</th>\n",
       "      <th></th>\n",
       "      <th></th>\n",
       "      <th></th>\n",
       "      <th></th>\n",
       "      <th></th>\n",
       "    </tr>\n",
       "  </thead>\n",
       "  <tbody>\n",
       "    <tr>\n",
       "      <th>FY 2022 FMR</th>\n",
       "      <td>1105.5</td>\n",
       "      <td>1200.1</td>\n",
       "      <td>1442.1</td>\n",
       "      <td>2007.5</td>\n",
       "      <td>2285.8</td>\n",
       "    </tr>\n",
       "    <tr>\n",
       "      <th>FY 2021 FMR</th>\n",
       "      <td>1026.3</td>\n",
       "      <td>1135.2</td>\n",
       "      <td>1376.1</td>\n",
       "      <td>1941.5</td>\n",
       "      <td>2211.0</td>\n",
       "    </tr>\n",
       "    <tr>\n",
       "      <th>FY 2020 FMR</th>\n",
       "      <td>931.7</td>\n",
       "      <td>1053.8</td>\n",
       "      <td>1290.3</td>\n",
       "      <td>1843.6</td>\n",
       "      <td>2107.6</td>\n",
       "    </tr>\n",
       "    <tr>\n",
       "      <th>FY 2019 FMR</th>\n",
       "      <td>818.4</td>\n",
       "      <td>954.8</td>\n",
       "      <td>1180.3</td>\n",
       "      <td>1706.1</td>\n",
       "      <td>1953.6</td>\n",
       "    </tr>\n",
       "    <tr>\n",
       "      <th>FY 2018 FMR</th>\n",
       "      <td>752.4</td>\n",
       "      <td>896.5</td>\n",
       "      <td>1114.3</td>\n",
       "      <td>1621.4</td>\n",
       "      <td>1866.7</td>\n",
       "    </tr>\n",
       "    <tr>\n",
       "      <th>FY 2017 FMR</th>\n",
       "      <td>686.4</td>\n",
       "      <td>832.7</td>\n",
       "      <td>1038.4</td>\n",
       "      <td>1511.4</td>\n",
       "      <td>1753.4</td>\n",
       "    </tr>\n",
       "  </tbody>\n",
       "</table>\n",
       "</div>"
      ],
      "text/plain": [
       "             Efficiency  One-Bedroom  Two-Bedroom  Three-Bedroom  Four-Bedroom\n",
       "Year                                                                          \n",
       "FY 2022 FMR      1105.5       1200.1       1442.1         2007.5        2285.8\n",
       "FY 2021 FMR      1026.3       1135.2       1376.1         1941.5        2211.0\n",
       "FY 2020 FMR       931.7       1053.8       1290.3         1843.6        2107.6\n",
       "FY 2019 FMR       818.4        954.8       1180.3         1706.1        1953.6\n",
       "FY 2018 FMR       752.4        896.5       1114.3         1621.4        1866.7\n",
       "FY 2017 FMR       686.4        832.7       1038.4         1511.4        1753.4"
      ]
     },
     "execution_count": 20,
     "metadata": {},
     "output_type": "execute_result"
    }
   ],
   "source": [
    "ps"
   ]
  },
  {
   "cell_type": "code",
   "execution_count": 21,
   "id": "26b38601-b5f4-4f42-9858-2bc4dad045fa",
   "metadata": {},
   "outputs": [],
   "source": [
    "#export as csv\n",
    "ps.to_csv('/Users/amyqin/Documents/data/processed/converted_fmrs_2017_2022.csv')"
   ]
  },
  {
   "cell_type": "code",
   "execution_count": null,
   "id": "17acde99-e7d2-4744-bd70-5fefc336bc6a",
   "metadata": {},
   "outputs": [],
   "source": []
  }
 ],
 "metadata": {
  "kernelspec": {
   "display_name": "Python (quick-analyses)",
   "language": "python",
   "name": "quick-analyses"
  },
  "language_info": {
   "codemirror_mode": {
    "name": "ipython",
    "version": 3
   },
   "file_extension": ".py",
   "mimetype": "text/x-python",
   "name": "python",
   "nbconvert_exporter": "python",
   "pygments_lexer": "ipython3",
   "version": "3.10.4"
  }
 },
 "nbformat": 4,
 "nbformat_minor": 5
}
