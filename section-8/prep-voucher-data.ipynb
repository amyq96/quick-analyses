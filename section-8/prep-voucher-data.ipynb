{
 "cells": [
  {
   "cell_type": "markdown",
   "id": "fc795a21-f815-4917-b6ed-dc2e8b3779d7",
   "metadata": {},
   "source": [
    "# Clean Census ZCTA Shapefiles\n",
    "\n",
    "This notebook filters ZCTA shapefiles to the Phoenix metro area, which is Maricopa and Pinal counties"
   ]
  },
  {
   "cell_type": "markdown",
   "id": "6850665b-dd32-49a8-acf6-efe72814a790",
   "metadata": {},
   "source": [
    "## Data Sources"
   ]
  },
  {
   "cell_type": "markdown",
   "id": "c9f234a4-1e34-4f3e-bfb0-848e93ada39d",
   "metadata": {},
   "source": [
    "2020 Zip Code Tabulation Area shapefile (national): https://www.census.gov/geographies/mapping-files/time-series/geo/tiger-line-file.html\n",
    "<br>\n",
    "<br>\n",
    "HUD crosswalk data ZIP-COUNTY: https://www.huduser.gov/portal/datasets/usps_crosswalk.html\n",
    "<br>\n",
    "<br>\n",
    "Section 8 vouchers by zip code (metro Phoenix): Requested from seven public housing authorities. Data is as of April 1, 2022.\n",
    "<ul>\n",
    "    <li>Maricopa County</li>\n",
    "    <li>Phoenix</li>\n",
    "    <li>Mesa</li>\n",
    "    <li>Glendale</li>\n",
    "    <li>Scottsdale</li>\n",
    "    <li>Tempe</li>\n",
    "    <li>Chandler (does not have vouchers by zipcode)</li>\n",
    "</ul>\n",
    "Census demographic data by ZCTA for AZ:\n",
    "<ul>\n",
    "    <li>B17020 Poverty Status in the Past 12 Months by Age</li>\n",
    "    <li>B19013 Median Household Income in the Past 12 Months</li>\n",
    "</ul>"
   ]
  },
  {
   "cell_type": "code",
   "execution_count": 1,
   "id": "75ab1a38-824e-48cb-8c28-f92a6b869a25",
   "metadata": {},
   "outputs": [],
   "source": [
    "import pandas as pd\n",
    "import numpy as np\n",
    "import geopandas as gpd\n",
    "import matplotlib"
   ]
  },
  {
   "cell_type": "markdown",
   "id": "8ca87fa7-6fba-4b7d-bb34-d7baaf016fd9",
   "metadata": {},
   "source": [
    "### Load shapefile data"
   ]
  },
  {
   "cell_type": "code",
   "execution_count": 4,
   "id": "3a68f105-7147-4474-b0a0-63b4ce7cc1d4",
   "metadata": {},
   "outputs": [],
   "source": [
    "zipfile = '/Users/amyqin/Documents/data/source/tl_2021_us_zcta520.zip'"
   ]
  },
  {
   "cell_type": "code",
   "execution_count": 5,
   "id": "e8e79b8e-bf70-4594-8696-90d97e3ba061",
   "metadata": {},
   "outputs": [],
   "source": [
    "zctas = gpd.read_file(zipfile)"
   ]
  },
  {
   "cell_type": "code",
   "execution_count": 6,
   "id": "ab169243-12f8-4663-9094-ce6a7c9f2bd4",
   "metadata": {},
   "outputs": [
    {
     "data": {
      "text/html": [
       "<div>\n",
       "<style scoped>\n",
       "    .dataframe tbody tr th:only-of-type {\n",
       "        vertical-align: middle;\n",
       "    }\n",
       "\n",
       "    .dataframe tbody tr th {\n",
       "        vertical-align: top;\n",
       "    }\n",
       "\n",
       "    .dataframe thead th {\n",
       "        text-align: right;\n",
       "    }\n",
       "</style>\n",
       "<table border=\"1\" class=\"dataframe\">\n",
       "  <thead>\n",
       "    <tr style=\"text-align: right;\">\n",
       "      <th></th>\n",
       "      <th>ZCTA5CE20</th>\n",
       "      <th>GEOID20</th>\n",
       "      <th>CLASSFP20</th>\n",
       "      <th>MTFCC20</th>\n",
       "      <th>FUNCSTAT20</th>\n",
       "      <th>ALAND20</th>\n",
       "      <th>AWATER20</th>\n",
       "      <th>INTPTLAT20</th>\n",
       "      <th>INTPTLON20</th>\n",
       "      <th>geometry</th>\n",
       "    </tr>\n",
       "  </thead>\n",
       "  <tbody>\n",
       "    <tr>\n",
       "      <th>0</th>\n",
       "      <td>47236</td>\n",
       "      <td>47236</td>\n",
       "      <td>B5</td>\n",
       "      <td>G6350</td>\n",
       "      <td>S</td>\n",
       "      <td>1029067</td>\n",
       "      <td>0</td>\n",
       "      <td>+39.1517426</td>\n",
       "      <td>-085.7252769</td>\n",
       "      <td>POLYGON ((-85.73410 39.15597, -85.72749 39.156...</td>\n",
       "    </tr>\n",
       "    <tr>\n",
       "      <th>1</th>\n",
       "      <td>47870</td>\n",
       "      <td>47870</td>\n",
       "      <td>B5</td>\n",
       "      <td>G6350</td>\n",
       "      <td>S</td>\n",
       "      <td>8830</td>\n",
       "      <td>0</td>\n",
       "      <td>+39.3701518</td>\n",
       "      <td>-087.4735141</td>\n",
       "      <td>POLYGON ((-87.47414 39.37016, -87.47409 39.370...</td>\n",
       "    </tr>\n",
       "    <tr>\n",
       "      <th>2</th>\n",
       "      <td>47851</td>\n",
       "      <td>47851</td>\n",
       "      <td>B5</td>\n",
       "      <td>G6350</td>\n",
       "      <td>S</td>\n",
       "      <td>53547</td>\n",
       "      <td>0</td>\n",
       "      <td>+39.5735818</td>\n",
       "      <td>-087.2459626</td>\n",
       "      <td>POLYGON ((-87.24770 39.57431, -87.24770 39.574...</td>\n",
       "    </tr>\n",
       "    <tr>\n",
       "      <th>3</th>\n",
       "      <td>47337</td>\n",
       "      <td>47337</td>\n",
       "      <td>B5</td>\n",
       "      <td>G6350</td>\n",
       "      <td>S</td>\n",
       "      <td>303089</td>\n",
       "      <td>0</td>\n",
       "      <td>+39.8027537</td>\n",
       "      <td>-085.4372850</td>\n",
       "      <td>POLYGON ((-85.44357 39.80328, -85.44346 39.803...</td>\n",
       "    </tr>\n",
       "    <tr>\n",
       "      <th>4</th>\n",
       "      <td>47435</td>\n",
       "      <td>47435</td>\n",
       "      <td>B5</td>\n",
       "      <td>G6350</td>\n",
       "      <td>S</td>\n",
       "      <td>13302</td>\n",
       "      <td>0</td>\n",
       "      <td>+39.2657557</td>\n",
       "      <td>-086.2951577</td>\n",
       "      <td>POLYGON ((-86.29592 39.26547, -86.29592 39.266...</td>\n",
       "    </tr>\n",
       "  </tbody>\n",
       "</table>\n",
       "</div>"
      ],
      "text/plain": [
       "  ZCTA5CE20 GEOID20 CLASSFP20 MTFCC20 FUNCSTAT20  ALAND20  AWATER20  \\\n",
       "0     47236   47236        B5   G6350          S  1029067         0   \n",
       "1     47870   47870        B5   G6350          S     8830         0   \n",
       "2     47851   47851        B5   G6350          S    53547         0   \n",
       "3     47337   47337        B5   G6350          S   303089         0   \n",
       "4     47435   47435        B5   G6350          S    13302         0   \n",
       "\n",
       "    INTPTLAT20    INTPTLON20  \\\n",
       "0  +39.1517426  -085.7252769   \n",
       "1  +39.3701518  -087.4735141   \n",
       "2  +39.5735818  -087.2459626   \n",
       "3  +39.8027537  -085.4372850   \n",
       "4  +39.2657557  -086.2951577   \n",
       "\n",
       "                                            geometry  \n",
       "0  POLYGON ((-85.73410 39.15597, -85.72749 39.156...  \n",
       "1  POLYGON ((-87.47414 39.37016, -87.47409 39.370...  \n",
       "2  POLYGON ((-87.24770 39.57431, -87.24770 39.574...  \n",
       "3  POLYGON ((-85.44357 39.80328, -85.44346 39.803...  \n",
       "4  POLYGON ((-86.29592 39.26547, -86.29592 39.266...  "
      ]
     },
     "execution_count": 6,
     "metadata": {},
     "output_type": "execute_result"
    }
   ],
   "source": [
    "#insepct loaded data\n",
    "zctas.head()"
   ]
  },
  {
   "cell_type": "code",
   "execution_count": 16,
   "id": "6c81dd9e-ffd5-458d-afeb-adb958402a6b",
   "metadata": {},
   "outputs": [
    {
     "data": {
      "text/plain": [
       "<AxesSubplot:>"
      ]
     },
     "execution_count": 16,
     "metadata": {},
     "output_type": "execute_result"
    },
    {
     "data": {
      "image/png": "[encoded data removed]",
      "text/plain": [
       "<Figure size 432x288 with 1 Axes>"
      ]
     },
     "metadata": {
      "needs_background": "light"
     },
     "output_type": "display_data"
    }
   ],
   "source": [
    "zctas.plot()"
   ]
  },
  {
   "cell_type": "code",
   "execution_count": 13,
   "id": "fb1230cf-0b45-42ca-b6b3-3a08bbed6df7",
   "metadata": {},
   "outputs": [
    {
     "data": {
      "text/plain": [
       "<Geographic 2D CRS: EPSG:4269>\n",
       "Name: NAD83\n",
       "Axis Info [ellipsoidal]:\n",
       "- Lat[north]: Geodetic latitude (degree)\n",
       "- Lon[east]: Geodetic longitude (degree)\n",
       "Area of Use:\n",
       "- name: North America - onshore and offshore: Canada - Alberta; British Columbia; Manitoba; New Brunswick; Newfoundland and Labrador; Northwest Territories; Nova Scotia; Nunavut; Ontario; Prince Edward Island; Quebec; Saskatchewan; Yukon. Puerto Rico. United States (USA) - Alabama; Alaska; Arizona; Arkansas; California; Colorado; Connecticut; Delaware; Florida; Georgia; Hawaii; Idaho; Illinois; Indiana; Iowa; Kansas; Kentucky; Louisiana; Maine; Maryland; Massachusetts; Michigan; Minnesota; Mississippi; Missouri; Montana; Nebraska; Nevada; New Hampshire; New Jersey; New Mexico; New York; North Carolina; North Dakota; Ohio; Oklahoma; Oregon; Pennsylvania; Rhode Island; South Carolina; South Dakota; Tennessee; Texas; Utah; Vermont; Virginia; Washington; West Virginia; Wisconsin; Wyoming. US Virgin Islands. British Virgin Islands.\n",
       "- bounds: (167.65, 14.92, -47.74, 86.46)\n",
       "Datum: North American Datum 1983\n",
       "- Ellipsoid: GRS 1980\n",
       "- Prime Meridian: Greenwich"
      ]
     },
     "execution_count": 13,
     "metadata": {},
     "output_type": "execute_result"
    }
   ],
   "source": [
    "#check projection\n",
    "zctas.crs"
   ]
  },
  {
   "cell_type": "markdown",
   "id": "66c031a6-a8cf-4cb7-84ff-cc172add16cb",
   "metadata": {},
   "source": [
    "### Load HUD data"
   ]
  },
  {
   "cell_type": "markdown",
   "id": "2f33af04-c7bd-41c6-b4ad-549bfc7d808a",
   "metadata": {},
   "source": [
    "Load and filter for only metro Phoenix, which is Maricopa county = 04013 and Pinal county = 04021"
   ]
  },
  {
   "cell_type": "code",
   "execution_count": 7,
   "id": "291e5dc1-d89b-4171-be74-c86b31cb5c88",
   "metadata": {},
   "outputs": [],
   "source": [
    "hud = pd.read_excel('/Users/amyqin/Documents/data/source/ZIP_COUNTY_122021.xlsx')"
   ]
  },
  {
   "cell_type": "code",
   "execution_count": 8,
   "id": "87012d95-b0aa-42ed-8265-8aeda62142ac",
   "metadata": {},
   "outputs": [
    {
     "data": {
      "text/html": [
       "<div>\n",
       "<style scoped>\n",
       "    .dataframe tbody tr th:only-of-type {\n",
       "        vertical-align: middle;\n",
       "    }\n",
       "\n",
       "    .dataframe tbody tr th {\n",
       "        vertical-align: top;\n",
       "    }\n",
       "\n",
       "    .dataframe thead th {\n",
       "        text-align: right;\n",
       "    }\n",
       "</style>\n",
       "<table border=\"1\" class=\"dataframe\">\n",
       "  <thead>\n",
       "    <tr style=\"text-align: right;\">\n",
       "      <th></th>\n",
       "      <th>zip</th>\n",
       "      <th>county</th>\n",
       "      <th>usps_zip_pref_city</th>\n",
       "      <th>usps_zip_pref_state</th>\n",
       "      <th>res_ratio</th>\n",
       "      <th>bus_ratio</th>\n",
       "      <th>oth_ratio</th>\n",
       "      <th>tot_ratio</th>\n",
       "    </tr>\n",
       "  </thead>\n",
       "  <tbody>\n",
       "    <tr>\n",
       "      <th>0</th>\n",
       "      <td>683</td>\n",
       "      <td>72125</td>\n",
       "      <td>SAN GERMAN</td>\n",
       "      <td>PR</td>\n",
       "      <td>0.953036</td>\n",
       "      <td>0.996656</td>\n",
       "      <td>0.980769</td>\n",
       "      <td>0.956300</td>\n",
       "    </tr>\n",
       "    <tr>\n",
       "      <th>1</th>\n",
       "      <td>683</td>\n",
       "      <td>72079</td>\n",
       "      <td>SAN GERMAN</td>\n",
       "      <td>PR</td>\n",
       "      <td>0.000949</td>\n",
       "      <td>0.000000</td>\n",
       "      <td>0.000000</td>\n",
       "      <td>0.000873</td>\n",
       "    </tr>\n",
       "    <tr>\n",
       "      <th>2</th>\n",
       "      <td>683</td>\n",
       "      <td>72023</td>\n",
       "      <td>SAN GERMAN</td>\n",
       "      <td>PR</td>\n",
       "      <td>0.000791</td>\n",
       "      <td>0.001115</td>\n",
       "      <td>0.000000</td>\n",
       "      <td>0.000800</td>\n",
       "    </tr>\n",
       "    <tr>\n",
       "      <th>3</th>\n",
       "      <td>683</td>\n",
       "      <td>72097</td>\n",
       "      <td>SAN GERMAN</td>\n",
       "      <td>PR</td>\n",
       "      <td>0.000158</td>\n",
       "      <td>0.000000</td>\n",
       "      <td>0.000000</td>\n",
       "      <td>0.000145</td>\n",
       "    </tr>\n",
       "    <tr>\n",
       "      <th>4</th>\n",
       "      <td>683</td>\n",
       "      <td>72121</td>\n",
       "      <td>SAN GERMAN</td>\n",
       "      <td>PR</td>\n",
       "      <td>0.045066</td>\n",
       "      <td>0.002230</td>\n",
       "      <td>0.019231</td>\n",
       "      <td>0.041882</td>\n",
       "    </tr>\n",
       "  </tbody>\n",
       "</table>\n",
       "</div>"
      ],
      "text/plain": [
       "   zip  county usps_zip_pref_city usps_zip_pref_state  res_ratio  bus_ratio  \\\n",
       "0  683   72125         SAN GERMAN                  PR   0.953036   0.996656   \n",
       "1  683   72079         SAN GERMAN                  PR   0.000949   0.000000   \n",
       "2  683   72023         SAN GERMAN                  PR   0.000791   0.001115   \n",
       "3  683   72097         SAN GERMAN                  PR   0.000158   0.000000   \n",
       "4  683   72121         SAN GERMAN                  PR   0.045066   0.002230   \n",
       "\n",
       "   oth_ratio  tot_ratio  \n",
       "0   0.980769   0.956300  \n",
       "1   0.000000   0.000873  \n",
       "2   0.000000   0.000800  \n",
       "3   0.000000   0.000145  \n",
       "4   0.019231   0.041882  "
      ]
     },
     "execution_count": 8,
     "metadata": {},
     "output_type": "execute_result"
    }
   ],
   "source": [
    "hud.head()"
   ]
  },
  {
   "cell_type": "code",
   "execution_count": 9,
   "id": "75ae764a-0ce8-433e-8ce8-1f6f15ae6c93",
   "metadata": {},
   "outputs": [],
   "source": [
    "metrophx_zips = hud.query('county == 4013 or county == 4021')"
   ]
  },
  {
   "cell_type": "markdown",
   "id": "73e0fd59-448d-4a8b-bd9e-fac37f522c4f",
   "metadata": {},
   "source": [
    "### Load voucher data"
   ]
  },
  {
   "cell_type": "markdown",
   "id": "75ba347c-80f4-423c-a342-d496db39110c",
   "metadata": {},
   "source": [
    "Note about data: zip codes that appear multiple times means those zip codes are in more than one PHA."
   ]
  },
  {
   "cell_type": "code",
   "execution_count": 77,
   "id": "8961e2b1-9a69-4a80-afc4-11a541b78fcb",
   "metadata": {},
   "outputs": [],
   "source": [
    "vouchers = pd.read_csv('/Users/amyqin/Documents/data/processed/vouchers.csv')"
   ]
  },
  {
   "cell_type": "code",
   "execution_count": 78,
   "id": "c28299f4-8540-4443-ac4e-dbacad2d5fe0",
   "metadata": {},
   "outputs": [
    {
     "data": {
      "text/html": [
       "<div>\n",
       "<style scoped>\n",
       "    .dataframe tbody tr th:only-of-type {\n",
       "        vertical-align: middle;\n",
       "    }\n",
       "\n",
       "    .dataframe tbody tr th {\n",
       "        vertical-align: top;\n",
       "    }\n",
       "\n",
       "    .dataframe thead th {\n",
       "        text-align: right;\n",
       "    }\n",
       "</style>\n",
       "<table border=\"1\" class=\"dataframe\">\n",
       "  <thead>\n",
       "    <tr style=\"text-align: right;\">\n",
       "      <th></th>\n",
       "      <th>Zip code</th>\n",
       "      <th>PHA</th>\n",
       "      <th>Number of vouchers</th>\n",
       "    </tr>\n",
       "  </thead>\n",
       "  <tbody>\n",
       "    <tr>\n",
       "      <th>0</th>\n",
       "      <td>85301</td>\n",
       "      <td>Glendale</td>\n",
       "      <td>620</td>\n",
       "    </tr>\n",
       "    <tr>\n",
       "      <th>1</th>\n",
       "      <td>85041</td>\n",
       "      <td>Phoenix</td>\n",
       "      <td>568</td>\n",
       "    </tr>\n",
       "    <tr>\n",
       "      <th>2</th>\n",
       "      <td>85015</td>\n",
       "      <td>Phoenix</td>\n",
       "      <td>463</td>\n",
       "    </tr>\n",
       "    <tr>\n",
       "      <th>3</th>\n",
       "      <td>85201</td>\n",
       "      <td>Mesa</td>\n",
       "      <td>429</td>\n",
       "    </tr>\n",
       "    <tr>\n",
       "      <th>4</th>\n",
       "      <td>85008</td>\n",
       "      <td>Phoenix</td>\n",
       "      <td>418</td>\n",
       "    </tr>\n",
       "  </tbody>\n",
       "</table>\n",
       "</div>"
      ],
      "text/plain": [
       "   Zip code       PHA  Number of vouchers\n",
       "0     85301  Glendale                 620\n",
       "1     85041   Phoenix                 568\n",
       "2     85015   Phoenix                 463\n",
       "3     85201      Mesa                 429\n",
       "4     85008   Phoenix                 418"
      ]
     },
     "execution_count": 78,
     "metadata": {},
     "output_type": "execute_result"
    }
   ],
   "source": [
    "vouchers.head()"
   ]
  },
  {
   "cell_type": "code",
   "execution_count": 79,
   "id": "7bf76bd3-2ea2-419d-b421-ff90eac78dd9",
   "metadata": {},
   "outputs": [
    {
     "data": {
      "text/plain": [
       "PHA\n",
       "Glendale           1194\n",
       "Maricopa County    1324\n",
       "Mesa               1446\n",
       "Phoenix            6152\n",
       "Scottsdale          569\n",
       "Tempe               870\n",
       "mesa                241\n",
       "Name: Number of vouchers, dtype: int64"
      ]
     },
     "execution_count": 79,
     "metadata": {},
     "output_type": "execute_result"
    }
   ],
   "source": [
    "vouchers.groupby('PHA')['Number of vouchers'].sum()"
   ]
  },
  {
   "cell_type": "markdown",
   "id": "700d03c6-2b5d-478a-9a90-d41a06b5ec65",
   "metadata": {
    "tags": []
   },
   "source": [
    "### Load Census data and merge with voucher data"
   ]
  },
  {
   "cell_type": "code",
   "execution_count": 72,
   "id": "7aa71a37-08ad-43c7-8809-d890d75fdb76",
   "metadata": {},
   "outputs": [],
   "source": [
    "#percent below poverty \n",
    "below_poverty = pd.read_csv('/Users/amyqin/Documents/data/processed/percent_below_poverty_AZ_ZCTA_2020_census/ACSDT5Y2020.B17020_data_with_overlays_2022-06-13T200643.csv',\n",
    "                           skiprows = 1)\n",
    "\n",
    "#median income\n",
    "median_income = pd.read_csv('/Users/amyqin/Documents/data/processed/median_household_income_ZCTA_AZ_2020_census/ACSDT5Y2020.B19013_data_with_overlays_2022-04-26T202138.csv',\n",
    "                            skiprows = 1)"
   ]
  },
  {
   "cell_type": "code",
   "execution_count": 73,
   "id": "393118c4-8454-4c41-93dd-46b62a9e8943",
   "metadata": {},
   "outputs": [],
   "source": [
    "#calculate percent below poverty by zip\n",
    "below_poverty['pct_below_poverty'] = below_poverty['Estimate!!Total:!!Income in the past 12 months below poverty level:']/below_poverty['Estimate!!Total:']"
   ]
  },
  {
   "cell_type": "code",
   "execution_count": 74,
   "id": "0fa1f8e6-1df3-4eb9-bab4-1cbcb38927e5",
   "metadata": {},
   "outputs": [],
   "source": [
    "#clean up dataframes\n",
    "\n",
    "#create a list of column numbers to drop for below_poverty\n",
    "cols = list(range(0,36))\n",
    "\n",
    "#drop all irrelevant columns\n",
    "below_poverty.drop(below_poverty.columns[cols],axis=1,inplace=True)\n",
    "\n",
    "#clean up income dataframe\n",
    "cols = [1,2,3]\n",
    "median_income.drop(median_income.columns[cols],axis=1,inplace=True)\n",
    "\n",
    "#rename median income column\n",
    "median_income.rename(columns={'Estimate!!Median household income in the past 12 months (in 2020 inflation-adjusted dollars)':'median_income'}, inplace=True)"
   ]
  },
  {
   "cell_type": "code",
   "execution_count": 80,
   "id": "dc6891a8-8171-42ef-a3e3-9f712f477d76",
   "metadata": {},
   "outputs": [],
   "source": [
    "#make merges on zipcode\n",
    "vouchers = pd.merge(vouchers,below_poverty[['ZIPCODE','pct_below_poverty']],left_on='Zip code',right_on='ZIPCODE')\n",
    "vouchers = pd.merge(vouchers,median_income[['ZIPCODE','median_income']],left_on='Zip code',right_on='ZIPCODE')"
   ]
  },
  {
   "cell_type": "code",
   "execution_count": 83,
   "id": "7a7e2c3a-a39a-45af-b152-29a98342f716",
   "metadata": {},
   "outputs": [],
   "source": [
    "del vouchers['ZIPCODE_x']\n",
    "del vouchers['ZIPCODE_y']"
   ]
  },
  {
   "cell_type": "code",
   "execution_count": 84,
   "id": "245ac21b-05f6-4349-a4b7-b593b98624e2",
   "metadata": {},
   "outputs": [
    {
     "data": {
      "text/html": [
       "<div>\n",
       "<style scoped>\n",
       "    .dataframe tbody tr th:only-of-type {\n",
       "        vertical-align: middle;\n",
       "    }\n",
       "\n",
       "    .dataframe tbody tr th {\n",
       "        vertical-align: top;\n",
       "    }\n",
       "\n",
       "    .dataframe thead th {\n",
       "        text-align: right;\n",
       "    }\n",
       "</style>\n",
       "<table border=\"1\" class=\"dataframe\">\n",
       "  <thead>\n",
       "    <tr style=\"text-align: right;\">\n",
       "      <th></th>\n",
       "      <th>Zip code</th>\n",
       "      <th>PHA</th>\n",
       "      <th>Number of vouchers</th>\n",
       "      <th>pct_below_poverty</th>\n",
       "      <th>median_income</th>\n",
       "    </tr>\n",
       "  </thead>\n",
       "  <tbody>\n",
       "    <tr>\n",
       "      <th>0</th>\n",
       "      <td>85301</td>\n",
       "      <td>Glendale</td>\n",
       "      <td>620</td>\n",
       "      <td>0.311492</td>\n",
       "      <td>38454</td>\n",
       "    </tr>\n",
       "    <tr>\n",
       "      <th>1</th>\n",
       "      <td>85301</td>\n",
       "      <td>Maricopa County</td>\n",
       "      <td>1</td>\n",
       "      <td>0.311492</td>\n",
       "      <td>38454</td>\n",
       "    </tr>\n",
       "    <tr>\n",
       "      <th>2</th>\n",
       "      <td>85041</td>\n",
       "      <td>Phoenix</td>\n",
       "      <td>568</td>\n",
       "      <td>0.162583</td>\n",
       "      <td>58438</td>\n",
       "    </tr>\n",
       "    <tr>\n",
       "      <th>3</th>\n",
       "      <td>85015</td>\n",
       "      <td>Phoenix</td>\n",
       "      <td>463</td>\n",
       "      <td>0.278371</td>\n",
       "      <td>42038</td>\n",
       "    </tr>\n",
       "    <tr>\n",
       "      <th>4</th>\n",
       "      <td>85201</td>\n",
       "      <td>Mesa</td>\n",
       "      <td>429</td>\n",
       "      <td>0.198162</td>\n",
       "      <td>46348</td>\n",
       "    </tr>\n",
       "  </tbody>\n",
       "</table>\n",
       "</div>"
      ],
      "text/plain": [
       "   Zip code              PHA  Number of vouchers  pct_below_poverty  \\\n",
       "0     85301         Glendale                 620           0.311492   \n",
       "1     85301  Maricopa County                   1           0.311492   \n",
       "2     85041          Phoenix                 568           0.162583   \n",
       "3     85015          Phoenix                 463           0.278371   \n",
       "4     85201             Mesa                 429           0.198162   \n",
       "\n",
       "  median_income  \n",
       "0         38454  \n",
       "1         38454  \n",
       "2         58438  \n",
       "3         42038  \n",
       "4         46348  "
      ]
     },
     "execution_count": 84,
     "metadata": {},
     "output_type": "execute_result"
    }
   ],
   "source": [
    "vouchers.head()"
   ]
  },
  {
   "cell_type": "code",
   "execution_count": null,
   "id": "2fe62bf9-8d5e-4362-ae66-889376e1c50c",
   "metadata": {},
   "outputs": [],
   "source": []
  }
 ],
 "metadata": {
  "kernelspec": {
   "display_name": "Python (quick-analyses)",
   "language": "python",
   "name": "quick-analyses"
  },
  "language_info": {
   "codemirror_mode": {
    "name": "ipython",
    "version": 3
   },
   "file_extension": ".py",
   "mimetype": "text/x-python",
   "name": "python",
   "nbconvert_exporter": "python",
   "pygments_lexer": "ipython3",
   "version": "3.10.4"
  }
 },
 "nbformat": 4,
 "nbformat_minor": 5
}
