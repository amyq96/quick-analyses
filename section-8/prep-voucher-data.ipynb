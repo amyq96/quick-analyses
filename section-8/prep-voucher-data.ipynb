{
 "cells": [
  {
   "cell_type": "markdown",
   "id": "fc795a21-f815-4917-b6ed-dc2e8b3779d7",
   "metadata": {},
   "source": [
    "# Create a voucher geojson with demographic data \n",
    "\n",
    "This notebook filters ZCTA shapefiles to the Phoenix metro area, which is Maricopa and Pinal counties, and merges it with Section 8 voucher data that is merged with Census demographic info."
   ]
  },
  {
   "cell_type": "markdown",
   "id": "6850665b-dd32-49a8-acf6-efe72814a790",
   "metadata": {},
   "source": [
    "## Data Sources"
   ]
  },
  {
   "cell_type": "markdown",
   "id": "c9f234a4-1e34-4f3e-bfb0-848e93ada39d",
   "metadata": {},
   "source": [
    "2020 Zip Code Tabulation Area shapefile (national): https://www.census.gov/geographies/mapping-files/time-series/geo/tiger-line-file.html\n",
    "<br>\n",
    "<br>\n",
    "HUD crosswalk data ZIP-COUNTY: https://www.huduser.gov/portal/datasets/usps_crosswalk.html\n",
    "<br>\n",
    "<br>\n",
    "Section 8 vouchers by zip code (metro Phoenix): Requested from seven public housing authorities. Data is as of April 1, 2022.\n",
    "<ul>\n",
    "    <li>Maricopa County</li>\n",
    "    <li>Phoenix</li>\n",
    "    <li>Mesa</li>\n",
    "    <li>Glendale</li>\n",
    "    <li>Scottsdale</li>\n",
    "    <li>Tempe</li>\n",
    "    <li>Chandler (does not have vouchers by zipcode)</li>\n",
    "</ul>\n",
    "Census demographic data by ZCTA for AZ:\n",
    "<ul>\n",
    "    <li>B17020 Poverty Status in the Past 12 Months by Age</li>\n",
    "    <li>B19013 Median Household Income in the Past 12 Months</li>\n",
    "</ul>"
   ]
  },
  {
   "cell_type": "code",
   "execution_count": 3,
   "id": "75ab1a38-824e-48cb-8c28-f92a6b869a25",
   "metadata": {},
   "outputs": [],
   "source": [
    "import pandas as pd\n",
    "import numpy as np\n",
    "import geopandas as gpd\n",
    "import matplotlib"
   ]
  },
  {
   "cell_type": "markdown",
   "id": "8ca87fa7-6fba-4b7d-bb34-d7baaf016fd9",
   "metadata": {},
   "source": [
    "### Load shapefile data"
   ]
  },
  {
   "cell_type": "code",
   "execution_count": 4,
   "id": "3a68f105-7147-4474-b0a0-63b4ce7cc1d4",
   "metadata": {},
   "outputs": [],
   "source": [
    "zipfile = '/Users/amyqin/Documents/data/source/tl_2021_us_zcta520.zip'"
   ]
  },
  {
   "cell_type": "code",
   "execution_count": 5,
   "id": "e8e79b8e-bf70-4594-8696-90d97e3ba061",
   "metadata": {},
   "outputs": [],
   "source": [
    "zctas = gpd.read_file(zipfile)"
   ]
  },
  {
   "cell_type": "code",
   "execution_count": 6,
   "id": "d6a8cd3f-a00e-4ab9-a499-75dcc3767ca8",
   "metadata": {},
   "outputs": [
    {
     "name": "stdout",
     "output_type": "stream",
     "text": [
      "<class 'geopandas.geodataframe.GeoDataFrame'>\n",
      "RangeIndex: 33791 entries, 0 to 33790\n",
      "Data columns (total 10 columns):\n",
      " #   Column      Non-Null Count  Dtype   \n",
      "---  ------      --------------  -----   \n",
      " 0   ZCTA5CE20   33791 non-null  object  \n",
      " 1   GEOID20     33791 non-null  object  \n",
      " 2   CLASSFP20   33791 non-null  object  \n",
      " 3   MTFCC20     33791 non-null  object  \n",
      " 4   FUNCSTAT20  33791 non-null  object  \n",
      " 5   ALAND20     33791 non-null  int64   \n",
      " 6   AWATER20    33791 non-null  int64   \n",
      " 7   INTPTLAT20  33791 non-null  object  \n",
      " 8   INTPTLON20  33791 non-null  object  \n",
      " 9   geometry    33791 non-null  geometry\n",
      "dtypes: geometry(1), int64(2), object(7)\n",
      "memory usage: 2.6+ MB\n"
     ]
    }
   ],
   "source": [
    "zctas.info()"
   ]
  },
  {
   "cell_type": "code",
   "execution_count": 5,
   "id": "ab169243-12f8-4663-9094-ce6a7c9f2bd4",
   "metadata": {},
   "outputs": [
    {
     "data": {
      "text/html": [
       "<div>\n",
       "<style scoped>\n",
       "    .dataframe tbody tr th:only-of-type {\n",
       "        vertical-align: middle;\n",
       "    }\n",
       "\n",
       "    .dataframe tbody tr th {\n",
       "        vertical-align: top;\n",
       "    }\n",
       "\n",
       "    .dataframe thead th {\n",
       "        text-align: right;\n",
       "    }\n",
       "</style>\n",
       "<table border=\"1\" class=\"dataframe\">\n",
       "  <thead>\n",
       "    <tr style=\"text-align: right;\">\n",
       "      <th></th>\n",
       "      <th>ZCTA5CE20</th>\n",
       "      <th>GEOID20</th>\n",
       "      <th>CLASSFP20</th>\n",
       "      <th>MTFCC20</th>\n",
       "      <th>FUNCSTAT20</th>\n",
       "      <th>ALAND20</th>\n",
       "      <th>AWATER20</th>\n",
       "      <th>INTPTLAT20</th>\n",
       "      <th>INTPTLON20</th>\n",
       "      <th>geometry</th>\n",
       "    </tr>\n",
       "  </thead>\n",
       "  <tbody>\n",
       "    <tr>\n",
       "      <th>0</th>\n",
       "      <td>47236</td>\n",
       "      <td>47236</td>\n",
       "      <td>B5</td>\n",
       "      <td>G6350</td>\n",
       "      <td>S</td>\n",
       "      <td>1029067</td>\n",
       "      <td>0</td>\n",
       "      <td>+39.1517426</td>\n",
       "      <td>-085.7252769</td>\n",
       "      <td>POLYGON ((-85.73410 39.15597, -85.72749 39.156...</td>\n",
       "    </tr>\n",
       "    <tr>\n",
       "      <th>1</th>\n",
       "      <td>47870</td>\n",
       "      <td>47870</td>\n",
       "      <td>B5</td>\n",
       "      <td>G6350</td>\n",
       "      <td>S</td>\n",
       "      <td>8830</td>\n",
       "      <td>0</td>\n",
       "      <td>+39.3701518</td>\n",
       "      <td>-087.4735141</td>\n",
       "      <td>POLYGON ((-87.47414 39.37016, -87.47409 39.370...</td>\n",
       "    </tr>\n",
       "    <tr>\n",
       "      <th>2</th>\n",
       "      <td>47851</td>\n",
       "      <td>47851</td>\n",
       "      <td>B5</td>\n",
       "      <td>G6350</td>\n",
       "      <td>S</td>\n",
       "      <td>53547</td>\n",
       "      <td>0</td>\n",
       "      <td>+39.5735818</td>\n",
       "      <td>-087.2459626</td>\n",
       "      <td>POLYGON ((-87.24770 39.57431, -87.24770 39.574...</td>\n",
       "    </tr>\n",
       "    <tr>\n",
       "      <th>3</th>\n",
       "      <td>47337</td>\n",
       "      <td>47337</td>\n",
       "      <td>B5</td>\n",
       "      <td>G6350</td>\n",
       "      <td>S</td>\n",
       "      <td>303089</td>\n",
       "      <td>0</td>\n",
       "      <td>+39.8027537</td>\n",
       "      <td>-085.4372850</td>\n",
       "      <td>POLYGON ((-85.44357 39.80328, -85.44346 39.803...</td>\n",
       "    </tr>\n",
       "    <tr>\n",
       "      <th>4</th>\n",
       "      <td>47435</td>\n",
       "      <td>47435</td>\n",
       "      <td>B5</td>\n",
       "      <td>G6350</td>\n",
       "      <td>S</td>\n",
       "      <td>13302</td>\n",
       "      <td>0</td>\n",
       "      <td>+39.2657557</td>\n",
       "      <td>-086.2951577</td>\n",
       "      <td>POLYGON ((-86.29592 39.26547, -86.29592 39.266...</td>\n",
       "    </tr>\n",
       "  </tbody>\n",
       "</table>\n",
       "</div>"
      ],
      "text/plain": [
       "  ZCTA5CE20 GEOID20 CLASSFP20 MTFCC20 FUNCSTAT20  ALAND20  AWATER20  \\\n",
       "0     47236   47236        B5   G6350          S  1029067         0   \n",
       "1     47870   47870        B5   G6350          S     8830         0   \n",
       "2     47851   47851        B5   G6350          S    53547         0   \n",
       "3     47337   47337        B5   G6350          S   303089         0   \n",
       "4     47435   47435        B5   G6350          S    13302         0   \n",
       "\n",
       "    INTPTLAT20    INTPTLON20  \\\n",
       "0  +39.1517426  -085.7252769   \n",
       "1  +39.3701518  -087.4735141   \n",
       "2  +39.5735818  -087.2459626   \n",
       "3  +39.8027537  -085.4372850   \n",
       "4  +39.2657557  -086.2951577   \n",
       "\n",
       "                                            geometry  \n",
       "0  POLYGON ((-85.73410 39.15597, -85.72749 39.156...  \n",
       "1  POLYGON ((-87.47414 39.37016, -87.47409 39.370...  \n",
       "2  POLYGON ((-87.24770 39.57431, -87.24770 39.574...  \n",
       "3  POLYGON ((-85.44357 39.80328, -85.44346 39.803...  \n",
       "4  POLYGON ((-86.29592 39.26547, -86.29592 39.266...  "
      ]
     },
     "execution_count": 5,
     "metadata": {},
     "output_type": "execute_result"
    }
   ],
   "source": [
    "#insepct loaded data\n",
    "zctas.head()"
   ]
  },
  {
   "cell_type": "code",
   "execution_count": 6,
   "id": "6c81dd9e-ffd5-458d-afeb-adb958402a6b",
   "metadata": {},
   "outputs": [
    {
     "data": {
      "text/plain": [
       "<AxesSubplot:>"
      ]
     },
     "execution_count": 6,
     "metadata": {},
     "output_type": "execute_result"
    },
    {
     "data": {
      "image/png": "[encoded data removed]",
      "text/plain": [
       "<Figure size 432x288 with 1 Axes>"
      ]
     },
     "metadata": {
      "needs_background": "light"
     },
     "output_type": "display_data"
    }
   ],
   "source": [
    "zctas.plot()"
   ]
  },
  {
   "cell_type": "code",
   "execution_count": 7,
   "id": "fb1230cf-0b45-42ca-b6b3-3a08bbed6df7",
   "metadata": {},
   "outputs": [
    {
     "data": {
      "text/plain": [
       "<Geographic 2D CRS: EPSG:4269>\n",
       "Name: NAD83\n",
       "Axis Info [ellipsoidal]:\n",
       "- Lat[north]: Geodetic latitude (degree)\n",
       "- Lon[east]: Geodetic longitude (degree)\n",
       "Area of Use:\n",
       "- name: North America - onshore and offshore: Canada - Alberta; British Columbia; Manitoba; New Brunswick; Newfoundland and Labrador; Northwest Territories; Nova Scotia; Nunavut; Ontario; Prince Edward Island; Quebec; Saskatchewan; Yukon. Puerto Rico. United States (USA) - Alabama; Alaska; Arizona; Arkansas; California; Colorado; Connecticut; Delaware; Florida; Georgia; Hawaii; Idaho; Illinois; Indiana; Iowa; Kansas; Kentucky; Louisiana; Maine; Maryland; Massachusetts; Michigan; Minnesota; Mississippi; Missouri; Montana; Nebraska; Nevada; New Hampshire; New Jersey; New Mexico; New York; North Carolina; North Dakota; Ohio; Oklahoma; Oregon; Pennsylvania; Rhode Island; South Carolina; South Dakota; Tennessee; Texas; Utah; Vermont; Virginia; Washington; West Virginia; Wisconsin; Wyoming. US Virgin Islands. British Virgin Islands.\n",
       "- bounds: (167.65, 14.92, -47.74, 86.46)\n",
       "Datum: North American Datum 1983\n",
       "- Ellipsoid: GRS 1980\n",
       "- Prime Meridian: Greenwich"
      ]
     },
     "execution_count": 7,
     "metadata": {},
     "output_type": "execute_result"
    }
   ],
   "source": [
    "#check projection\n",
    "zctas.crs"
   ]
  },
  {
   "cell_type": "markdown",
   "id": "66c031a6-a8cf-4cb7-84ff-cc172add16cb",
   "metadata": {},
   "source": [
    "### Load HUD data"
   ]
  },
  {
   "cell_type": "markdown",
   "id": "2f33af04-c7bd-41c6-b4ad-549bfc7d808a",
   "metadata": {},
   "source": [
    "Load and filter for only metro Phoenix, which is Maricopa county = 04013 and Pinal county = 04021"
   ]
  },
  {
   "cell_type": "code",
   "execution_count": 7,
   "id": "291e5dc1-d89b-4171-be74-c86b31cb5c88",
   "metadata": {},
   "outputs": [],
   "source": [
    "hud = pd.read_excel('/Users/amyqin/Documents/data/source/ZIP_COUNTY_122021.xlsx')"
   ]
  },
  {
   "cell_type": "code",
   "execution_count": 8,
   "id": "87012d95-b0aa-42ed-8265-8aeda62142ac",
   "metadata": {},
   "outputs": [
    {
     "data": {
      "text/html": [
       "<div>\n",
       "<style scoped>\n",
       "    .dataframe tbody tr th:only-of-type {\n",
       "        vertical-align: middle;\n",
       "    }\n",
       "\n",
       "    .dataframe tbody tr th {\n",
       "        vertical-align: top;\n",
       "    }\n",
       "\n",
       "    .dataframe thead th {\n",
       "        text-align: right;\n",
       "    }\n",
       "</style>\n",
       "<table border=\"1\" class=\"dataframe\">\n",
       "  <thead>\n",
       "    <tr style=\"text-align: right;\">\n",
       "      <th></th>\n",
       "      <th>zip</th>\n",
       "      <th>county</th>\n",
       "      <th>usps_zip_pref_city</th>\n",
       "      <th>usps_zip_pref_state</th>\n",
       "      <th>res_ratio</th>\n",
       "      <th>bus_ratio</th>\n",
       "      <th>oth_ratio</th>\n",
       "      <th>tot_ratio</th>\n",
       "    </tr>\n",
       "  </thead>\n",
       "  <tbody>\n",
       "    <tr>\n",
       "      <th>0</th>\n",
       "      <td>683</td>\n",
       "      <td>72125</td>\n",
       "      <td>SAN GERMAN</td>\n",
       "      <td>PR</td>\n",
       "      <td>0.953036</td>\n",
       "      <td>0.996656</td>\n",
       "      <td>0.980769</td>\n",
       "      <td>0.956300</td>\n",
       "    </tr>\n",
       "    <tr>\n",
       "      <th>1</th>\n",
       "      <td>683</td>\n",
       "      <td>72079</td>\n",
       "      <td>SAN GERMAN</td>\n",
       "      <td>PR</td>\n",
       "      <td>0.000949</td>\n",
       "      <td>0.000000</td>\n",
       "      <td>0.000000</td>\n",
       "      <td>0.000873</td>\n",
       "    </tr>\n",
       "    <tr>\n",
       "      <th>2</th>\n",
       "      <td>683</td>\n",
       "      <td>72023</td>\n",
       "      <td>SAN GERMAN</td>\n",
       "      <td>PR</td>\n",
       "      <td>0.000791</td>\n",
       "      <td>0.001115</td>\n",
       "      <td>0.000000</td>\n",
       "      <td>0.000800</td>\n",
       "    </tr>\n",
       "    <tr>\n",
       "      <th>3</th>\n",
       "      <td>683</td>\n",
       "      <td>72097</td>\n",
       "      <td>SAN GERMAN</td>\n",
       "      <td>PR</td>\n",
       "      <td>0.000158</td>\n",
       "      <td>0.000000</td>\n",
       "      <td>0.000000</td>\n",
       "      <td>0.000145</td>\n",
       "    </tr>\n",
       "    <tr>\n",
       "      <th>4</th>\n",
       "      <td>683</td>\n",
       "      <td>72121</td>\n",
       "      <td>SAN GERMAN</td>\n",
       "      <td>PR</td>\n",
       "      <td>0.045066</td>\n",
       "      <td>0.002230</td>\n",
       "      <td>0.019231</td>\n",
       "      <td>0.041882</td>\n",
       "    </tr>\n",
       "  </tbody>\n",
       "</table>\n",
       "</div>"
      ],
      "text/plain": [
       "   zip  county usps_zip_pref_city usps_zip_pref_state  res_ratio  bus_ratio  \\\n",
       "0  683   72125         SAN GERMAN                  PR   0.953036   0.996656   \n",
       "1  683   72079         SAN GERMAN                  PR   0.000949   0.000000   \n",
       "2  683   72023         SAN GERMAN                  PR   0.000791   0.001115   \n",
       "3  683   72097         SAN GERMAN                  PR   0.000158   0.000000   \n",
       "4  683   72121         SAN GERMAN                  PR   0.045066   0.002230   \n",
       "\n",
       "   oth_ratio  tot_ratio  \n",
       "0   0.980769   0.956300  \n",
       "1   0.000000   0.000873  \n",
       "2   0.000000   0.000800  \n",
       "3   0.000000   0.000145  \n",
       "4   0.019231   0.041882  "
      ]
     },
     "execution_count": 8,
     "metadata": {},
     "output_type": "execute_result"
    }
   ],
   "source": [
    "hud.head()"
   ]
  },
  {
   "cell_type": "code",
   "execution_count": 9,
   "id": "75ae764a-0ce8-433e-8ce8-1f6f15ae6c93",
   "metadata": {},
   "outputs": [],
   "source": [
    "metrophx_zips = hud.query('county == 4013 or county == 4021')"
   ]
  },
  {
   "cell_type": "code",
   "execution_count": 10,
   "id": "07800fd0-860a-424a-910e-171977635a5f",
   "metadata": {},
   "outputs": [
    {
     "data": {
      "text/plain": [
       "(228, 8)"
      ]
     },
     "execution_count": 10,
     "metadata": {},
     "output_type": "execute_result"
    }
   ],
   "source": [
    "metrophx_zips.shape"
   ]
  },
  {
   "cell_type": "markdown",
   "id": "41b4d393-a657-4199-b873-bdd42366408b",
   "metadata": {},
   "source": [
    "### Create metro Phoenix zipcode shapefile"
   ]
  },
  {
   "cell_type": "code",
   "execution_count": 11,
   "id": "7fea20ef-517c-4cd2-a666-96e182c111b3",
   "metadata": {},
   "outputs": [],
   "source": [
    "#convert ZCTA to integer\n",
    "zctas['ZCTA5CE20'] = zctas['ZCTA5CE20'].astype(int)"
   ]
  },
  {
   "cell_type": "code",
   "execution_count": 12,
   "id": "361543df-f428-4385-a568-7cff2ec37496",
   "metadata": {},
   "outputs": [],
   "source": [
    "#right merge\n",
    "metrophx_zips_shp = zctas.merge(metrophx_zips, left_on='ZCTA5CE20', right_on='zip', how = 'right')"
   ]
  },
  {
   "cell_type": "code",
   "execution_count": 35,
   "id": "02aff86d-7ca0-4af0-ad8d-fad91fafe593",
   "metadata": {},
   "outputs": [
    {
     "name": "stdout",
     "output_type": "stream",
     "text": [
      "<class 'geopandas.geodataframe.GeoDataFrame'>\n",
      "Int64Index: 228 entries, 0 to 227\n",
      "Data columns (total 18 columns):\n",
      " #   Column               Non-Null Count  Dtype   \n",
      "---  ------               --------------  -----   \n",
      " 0   ZCTA5CE20            175 non-null    float64 \n",
      " 1   GEOID20              175 non-null    object  \n",
      " 2   CLASSFP20            175 non-null    object  \n",
      " 3   MTFCC20              175 non-null    object  \n",
      " 4   FUNCSTAT20           175 non-null    object  \n",
      " 5   ALAND20              175 non-null    float64 \n",
      " 6   AWATER20             175 non-null    float64 \n",
      " 7   INTPTLAT20           175 non-null    object  \n",
      " 8   INTPTLON20           175 non-null    object  \n",
      " 9   geometry             175 non-null    geometry\n",
      " 10  zip                  228 non-null    int64   \n",
      " 11  county               228 non-null    int64   \n",
      " 12  usps_zip_pref_city   228 non-null    object  \n",
      " 13  usps_zip_pref_state  228 non-null    object  \n",
      " 14  res_ratio            228 non-null    float64 \n",
      " 15  bus_ratio            228 non-null    float64 \n",
      " 16  oth_ratio            228 non-null    float64 \n",
      " 17  tot_ratio            228 non-null    float64 \n",
      "dtypes: float64(7), geometry(1), int64(2), object(8)\n",
      "memory usage: 33.8+ KB\n"
     ]
    }
   ],
   "source": [
    "metrophx_zips_shp.info()"
   ]
  },
  {
   "cell_type": "code",
   "execution_count": 14,
   "id": "477f2ecb-a001-4ae8-8ce9-c37ac0004553",
   "metadata": {},
   "outputs": [
    {
     "data": {
      "text/plain": [
       "(228, 18)"
      ]
     },
     "execution_count": 14,
     "metadata": {},
     "output_type": "execute_result"
    }
   ],
   "source": [
    "#check\n",
    "metrophx_zips_shp.shape"
   ]
  },
  {
   "cell_type": "code",
   "execution_count": 15,
   "id": "5c2fec90-867f-484b-a941-5c3469c8165e",
   "metadata": {},
   "outputs": [
    {
     "data": {
      "text/html": [
       "<div>\n",
       "<style scoped>\n",
       "    .dataframe tbody tr th:only-of-type {\n",
       "        vertical-align: middle;\n",
       "    }\n",
       "\n",
       "    .dataframe tbody tr th {\n",
       "        vertical-align: top;\n",
       "    }\n",
       "\n",
       "    .dataframe thead th {\n",
       "        text-align: right;\n",
       "    }\n",
       "</style>\n",
       "<table border=\"1\" class=\"dataframe\">\n",
       "  <thead>\n",
       "    <tr style=\"text-align: right;\">\n",
       "      <th></th>\n",
       "      <th>ZCTA5CE20</th>\n",
       "      <th>GEOID20</th>\n",
       "      <th>CLASSFP20</th>\n",
       "      <th>MTFCC20</th>\n",
       "      <th>FUNCSTAT20</th>\n",
       "      <th>ALAND20</th>\n",
       "      <th>AWATER20</th>\n",
       "      <th>INTPTLAT20</th>\n",
       "      <th>INTPTLON20</th>\n",
       "      <th>geometry</th>\n",
       "      <th>zip</th>\n",
       "      <th>county</th>\n",
       "      <th>usps_zip_pref_city</th>\n",
       "      <th>usps_zip_pref_state</th>\n",
       "      <th>res_ratio</th>\n",
       "      <th>bus_ratio</th>\n",
       "      <th>oth_ratio</th>\n",
       "      <th>tot_ratio</th>\n",
       "    </tr>\n",
       "  </thead>\n",
       "  <tbody>\n",
       "    <tr>\n",
       "      <th>0</th>\n",
       "      <td>NaN</td>\n",
       "      <td>NaN</td>\n",
       "      <td>NaN</td>\n",
       "      <td>NaN</td>\n",
       "      <td>NaN</td>\n",
       "      <td>NaN</td>\n",
       "      <td>NaN</td>\n",
       "      <td>NaN</td>\n",
       "      <td>NaN</td>\n",
       "      <td>None</td>\n",
       "      <td>85252</td>\n",
       "      <td>4013</td>\n",
       "      <td>SCOTTSDALE</td>\n",
       "      <td>AZ</td>\n",
       "      <td>1.0</td>\n",
       "      <td>1.0</td>\n",
       "      <td>1.0</td>\n",
       "      <td>1.0</td>\n",
       "    </tr>\n",
       "    <tr>\n",
       "      <th>1</th>\n",
       "      <td>85013.0</td>\n",
       "      <td>85013</td>\n",
       "      <td>B5</td>\n",
       "      <td>G6350</td>\n",
       "      <td>S</td>\n",
       "      <td>9543731.0</td>\n",
       "      <td>21662.0</td>\n",
       "      <td>+33.5111125</td>\n",
       "      <td>-112.0847312</td>\n",
       "      <td>POLYGON ((-112.09137 33.48171, -112.09137 33.4...</td>\n",
       "      <td>85013</td>\n",
       "      <td>4013</td>\n",
       "      <td>PHOENIX</td>\n",
       "      <td>AZ</td>\n",
       "      <td>1.0</td>\n",
       "      <td>1.0</td>\n",
       "      <td>1.0</td>\n",
       "      <td>1.0</td>\n",
       "    </tr>\n",
       "    <tr>\n",
       "      <th>2</th>\n",
       "      <td>85128.0</td>\n",
       "      <td>85128</td>\n",
       "      <td>B5</td>\n",
       "      <td>G6350</td>\n",
       "      <td>S</td>\n",
       "      <td>431633755.0</td>\n",
       "      <td>4493906.0</td>\n",
       "      <td>+32.9628436</td>\n",
       "      <td>-111.5096876</td>\n",
       "      <td>POLYGON ((-111.67274 33.04917, -111.66997 33.0...</td>\n",
       "      <td>85128</td>\n",
       "      <td>4021</td>\n",
       "      <td>COOLIDGE</td>\n",
       "      <td>AZ</td>\n",
       "      <td>1.0</td>\n",
       "      <td>1.0</td>\n",
       "      <td>1.0</td>\n",
       "      <td>1.0</td>\n",
       "    </tr>\n",
       "    <tr>\n",
       "      <th>3</th>\n",
       "      <td>NaN</td>\n",
       "      <td>NaN</td>\n",
       "      <td>NaN</td>\n",
       "      <td>NaN</td>\n",
       "      <td>NaN</td>\n",
       "      <td>NaN</td>\n",
       "      <td>NaN</td>\n",
       "      <td>NaN</td>\n",
       "      <td>NaN</td>\n",
       "      <td>None</td>\n",
       "      <td>85275</td>\n",
       "      <td>4013</td>\n",
       "      <td>MESA</td>\n",
       "      <td>AZ</td>\n",
       "      <td>1.0</td>\n",
       "      <td>1.0</td>\n",
       "      <td>1.0</td>\n",
       "      <td>1.0</td>\n",
       "    </tr>\n",
       "    <tr>\n",
       "      <th>4</th>\n",
       "      <td>85320.0</td>\n",
       "      <td>85320</td>\n",
       "      <td>B5</td>\n",
       "      <td>G6350</td>\n",
       "      <td>S</td>\n",
       "      <td>703826694.0</td>\n",
       "      <td>0.0</td>\n",
       "      <td>+33.8355753</td>\n",
       "      <td>-113.2322010</td>\n",
       "      <td>POLYGON ((-113.33507 33.70464, -113.33507 33.7...</td>\n",
       "      <td>85320</td>\n",
       "      <td>4013</td>\n",
       "      <td>AGUILA</td>\n",
       "      <td>AZ</td>\n",
       "      <td>1.0</td>\n",
       "      <td>0.0</td>\n",
       "      <td>1.0</td>\n",
       "      <td>1.0</td>\n",
       "    </tr>\n",
       "  </tbody>\n",
       "</table>\n",
       "</div>"
      ],
      "text/plain": [
       "   ZCTA5CE20 GEOID20 CLASSFP20 MTFCC20 FUNCSTAT20      ALAND20   AWATER20  \\\n",
       "0        NaN     NaN       NaN     NaN        NaN          NaN        NaN   \n",
       "1    85013.0   85013        B5   G6350          S    9543731.0    21662.0   \n",
       "2    85128.0   85128        B5   G6350          S  431633755.0  4493906.0   \n",
       "3        NaN     NaN       NaN     NaN        NaN          NaN        NaN   \n",
       "4    85320.0   85320        B5   G6350          S  703826694.0        0.0   \n",
       "\n",
       "    INTPTLAT20    INTPTLON20  \\\n",
       "0          NaN           NaN   \n",
       "1  +33.5111125  -112.0847312   \n",
       "2  +32.9628436  -111.5096876   \n",
       "3          NaN           NaN   \n",
       "4  +33.8355753  -113.2322010   \n",
       "\n",
       "                                            geometry    zip  county  \\\n",
       "0                                               None  85252    4013   \n",
       "1  POLYGON ((-112.09137 33.48171, -112.09137 33.4...  85013    4013   \n",
       "2  POLYGON ((-111.67274 33.04917, -111.66997 33.0...  85128    4021   \n",
       "3                                               None  85275    4013   \n",
       "4  POLYGON ((-113.33507 33.70464, -113.33507 33.7...  85320    4013   \n",
       "\n",
       "  usps_zip_pref_city usps_zip_pref_state  res_ratio  bus_ratio  oth_ratio  \\\n",
       "0         SCOTTSDALE                  AZ        1.0        1.0        1.0   \n",
       "1            PHOENIX                  AZ        1.0        1.0        1.0   \n",
       "2           COOLIDGE                  AZ        1.0        1.0        1.0   \n",
       "3               MESA                  AZ        1.0        1.0        1.0   \n",
       "4             AGUILA                  AZ        1.0        0.0        1.0   \n",
       "\n",
       "   tot_ratio  \n",
       "0        1.0  \n",
       "1        1.0  \n",
       "2        1.0  \n",
       "3        1.0  \n",
       "4        1.0  "
      ]
     },
     "execution_count": 15,
     "metadata": {},
     "output_type": "execute_result"
    }
   ],
   "source": [
    "metrophx_zips_shp.head()"
   ]
  },
  {
   "cell_type": "markdown",
   "id": "73e0fd59-448d-4a8b-bd9e-fac37f522c4f",
   "metadata": {},
   "source": [
    "### Load voucher data"
   ]
  },
  {
   "cell_type": "markdown",
   "id": "75ba347c-80f4-423c-a342-d496db39110c",
   "metadata": {},
   "source": [
    "Note about data: zip codes that appear multiple times means those zip codes are in more than one PHA."
   ]
  },
  {
   "cell_type": "code",
   "execution_count": 16,
   "id": "8961e2b1-9a69-4a80-afc4-11a541b78fcb",
   "metadata": {},
   "outputs": [],
   "source": [
    "vouchers = pd.read_csv('/Users/amyqin/Documents/data/processed/vouchers.csv')"
   ]
  },
  {
   "cell_type": "code",
   "execution_count": 17,
   "id": "1c7158d7-61bf-47b7-b364-0552aa1fc62c",
   "metadata": {},
   "outputs": [
    {
     "data": {
      "text/plain": [
       "(144, 3)"
      ]
     },
     "execution_count": 17,
     "metadata": {},
     "output_type": "execute_result"
    }
   ],
   "source": [
    "vouchers.shape"
   ]
  },
  {
   "cell_type": "code",
   "execution_count": 18,
   "id": "c28299f4-8540-4443-ac4e-dbacad2d5fe0",
   "metadata": {},
   "outputs": [
    {
     "data": {
      "text/html": [
       "<div>\n",
       "<style scoped>\n",
       "    .dataframe tbody tr th:only-of-type {\n",
       "        vertical-align: middle;\n",
       "    }\n",
       "\n",
       "    .dataframe tbody tr th {\n",
       "        vertical-align: top;\n",
       "    }\n",
       "\n",
       "    .dataframe thead th {\n",
       "        text-align: right;\n",
       "    }\n",
       "</style>\n",
       "<table border=\"1\" class=\"dataframe\">\n",
       "  <thead>\n",
       "    <tr style=\"text-align: right;\">\n",
       "      <th></th>\n",
       "      <th>Zip code</th>\n",
       "      <th>PHA</th>\n",
       "      <th>Number of vouchers</th>\n",
       "    </tr>\n",
       "  </thead>\n",
       "  <tbody>\n",
       "    <tr>\n",
       "      <th>0</th>\n",
       "      <td>85301</td>\n",
       "      <td>Glendale</td>\n",
       "      <td>620</td>\n",
       "    </tr>\n",
       "    <tr>\n",
       "      <th>1</th>\n",
       "      <td>85041</td>\n",
       "      <td>Phoenix</td>\n",
       "      <td>568</td>\n",
       "    </tr>\n",
       "    <tr>\n",
       "      <th>2</th>\n",
       "      <td>85015</td>\n",
       "      <td>Phoenix</td>\n",
       "      <td>463</td>\n",
       "    </tr>\n",
       "    <tr>\n",
       "      <th>3</th>\n",
       "      <td>85201</td>\n",
       "      <td>Mesa</td>\n",
       "      <td>429</td>\n",
       "    </tr>\n",
       "    <tr>\n",
       "      <th>4</th>\n",
       "      <td>85008</td>\n",
       "      <td>Phoenix</td>\n",
       "      <td>418</td>\n",
       "    </tr>\n",
       "  </tbody>\n",
       "</table>\n",
       "</div>"
      ],
      "text/plain": [
       "   Zip code       PHA  Number of vouchers\n",
       "0     85301  Glendale                 620\n",
       "1     85041   Phoenix                 568\n",
       "2     85015   Phoenix                 463\n",
       "3     85201      Mesa                 429\n",
       "4     85008   Phoenix                 418"
      ]
     },
     "execution_count": 18,
     "metadata": {},
     "output_type": "execute_result"
    }
   ],
   "source": [
    "vouchers.head()"
   ]
  },
  {
   "cell_type": "code",
   "execution_count": 19,
   "id": "7bf76bd3-2ea2-419d-b421-ff90eac78dd9",
   "metadata": {},
   "outputs": [
    {
     "data": {
      "text/plain": [
       "PHA\n",
       "Glendale           1194\n",
       "Maricopa County    1324\n",
       "Mesa               1446\n",
       "Phoenix            6152\n",
       "Scottsdale          569\n",
       "Tempe               870\n",
       "mesa                241\n",
       "Name: Number of vouchers, dtype: int64"
      ]
     },
     "execution_count": 19,
     "metadata": {},
     "output_type": "execute_result"
    }
   ],
   "source": [
    "vouchers.groupby('PHA')['Number of vouchers'].sum()"
   ]
  },
  {
   "cell_type": "markdown",
   "id": "700d03c6-2b5d-478a-9a90-d41a06b5ec65",
   "metadata": {
    "tags": []
   },
   "source": [
    "### Load Census data and merge with voucher data"
   ]
  },
  {
   "cell_type": "code",
   "execution_count": 20,
   "id": "7aa71a37-08ad-43c7-8809-d890d75fdb76",
   "metadata": {},
   "outputs": [],
   "source": [
    "#percent below poverty \n",
    "below_poverty = pd.read_csv('/Users/amyqin/Documents/data/processed/percent_below_poverty_AZ_ZCTA_2020_census/ACSDT5Y2020.B17020_data_with_overlays_2022-06-13T200643.csv',\n",
    "                           skiprows = 1)\n",
    "\n",
    "#median income\n",
    "median_income = pd.read_csv('/Users/amyqin/Documents/data/processed/median_household_income_ZCTA_AZ_2020_census/ACSDT5Y2020.B19013_data_with_overlays_2022-04-26T202138.csv',\n",
    "                            skiprows = 1)"
   ]
  },
  {
   "cell_type": "code",
   "execution_count": 21,
   "id": "393118c4-8454-4c41-93dd-46b62a9e8943",
   "metadata": {},
   "outputs": [],
   "source": [
    "#calculate percent below poverty by zip\n",
    "below_poverty['pct_below_poverty'] = below_poverty['Estimate!!Total:!!Income in the past 12 months below poverty level:']/below_poverty['Estimate!!Total:']"
   ]
  },
  {
   "cell_type": "code",
   "execution_count": 22,
   "id": "0fa1f8e6-1df3-4eb9-bab4-1cbcb38927e5",
   "metadata": {},
   "outputs": [],
   "source": [
    "#clean up dataframes\n",
    "\n",
    "#create a list of column numbers to drop for below_poverty\n",
    "cols = list(range(0,36))\n",
    "\n",
    "#drop all irrelevant columns\n",
    "below_poverty.drop(below_poverty.columns[cols],axis=1,inplace=True)\n",
    "\n",
    "#clean up income dataframe\n",
    "cols = [1,2,3]\n",
    "median_income.drop(median_income.columns[cols],axis=1,inplace=True)\n",
    "\n",
    "#rename median income column\n",
    "median_income.rename(columns={'Estimate!!Median household income in the past 12 months (in 2020 inflation-adjusted dollars)':'median_income'}, inplace=True)"
   ]
  },
  {
   "cell_type": "code",
   "execution_count": null,
   "id": "dc6891a8-8171-42ef-a3e3-9f712f477d76",
   "metadata": {},
   "outputs": [],
   "source": [
    "#make merges on zipcode\n",
    "vouchers = pd.merge(vouchers,below_poverty[['ZIPCODE','pct_below_poverty']],how='left',left_on='Zip code',right_on='ZIPCODE')\n",
    "vouchers = pd.merge(vouchers,median_income[['ZIPCODE','median_income']],how='left',left_on='Zip code',right_on='ZIPCODE')"
   ]
  },
  {
   "cell_type": "code",
   "execution_count": 24,
   "id": "7a7e2c3a-a39a-45af-b152-29a98342f716",
   "metadata": {},
   "outputs": [],
   "source": [
    "del vouchers['ZIPCODE_x']\n",
    "del vouchers['ZIPCODE_y']"
   ]
  },
  {
   "cell_type": "code",
   "execution_count": 25,
   "id": "d6ed8a79-99da-4cee-8603-e56c3aa65fa6",
   "metadata": {},
   "outputs": [
    {
     "name": "stdout",
     "output_type": "stream",
     "text": [
      "<class 'pandas.core.frame.DataFrame'>\n",
      "Int64Index: 144 entries, 0 to 143\n",
      "Data columns (total 5 columns):\n",
      " #   Column              Non-Null Count  Dtype  \n",
      "---  ------              --------------  -----  \n",
      " 0   Zip code            144 non-null    int64  \n",
      " 1   PHA                 144 non-null    object \n",
      " 2   Number of vouchers  144 non-null    int64  \n",
      " 3   pct_below_poverty   135 non-null    float64\n",
      " 4   median_income       135 non-null    object \n",
      "dtypes: float64(1), int64(2), object(2)\n",
      "memory usage: 6.8+ KB\n"
     ]
    }
   ],
   "source": [
    "vouchers.info()"
   ]
  },
  {
   "cell_type": "code",
   "execution_count": 58,
   "id": "1b0efa70-f28e-4130-aacb-4ce2c0615b72",
   "metadata": {},
   "outputs": [
    {
     "data": {
      "text/html": [
       "<div>\n",
       "<style scoped>\n",
       "    .dataframe tbody tr th:only-of-type {\n",
       "        vertical-align: middle;\n",
       "    }\n",
       "\n",
       "    .dataframe tbody tr th {\n",
       "        vertical-align: top;\n",
       "    }\n",
       "\n",
       "    .dataframe thead th {\n",
       "        text-align: right;\n",
       "    }\n",
       "</style>\n",
       "<table border=\"1\" class=\"dataframe\">\n",
       "  <thead>\n",
       "    <tr style=\"text-align: right;\">\n",
       "      <th></th>\n",
       "      <th>Zip code</th>\n",
       "      <th>PHA</th>\n",
       "      <th>Number of vouchers</th>\n",
       "      <th>pct_below_poverty</th>\n",
       "      <th>median_income</th>\n",
       "    </tr>\n",
       "  </thead>\n",
       "  <tbody>\n",
       "    <tr>\n",
       "      <th>134</th>\n",
       "      <td>85261</td>\n",
       "      <td>Scottsdale</td>\n",
       "      <td>1</td>\n",
       "      <td>NaN</td>\n",
       "      <td>NaN</td>\n",
       "    </tr>\n",
       "    <tr>\n",
       "      <th>135</th>\n",
       "      <td>85211</td>\n",
       "      <td>Maricopa County</td>\n",
       "      <td>1</td>\n",
       "      <td>NaN</td>\n",
       "      <td>NaN</td>\n",
       "    </tr>\n",
       "    <tr>\n",
       "      <th>136</th>\n",
       "      <td>85293</td>\n",
       "      <td>Maricopa County</td>\n",
       "      <td>1</td>\n",
       "      <td>NaN</td>\n",
       "      <td>NaN</td>\n",
       "    </tr>\n",
       "    <tr>\n",
       "      <th>137</th>\n",
       "      <td>85343</td>\n",
       "      <td>Maricopa County</td>\n",
       "      <td>1</td>\n",
       "      <td>0.000000</td>\n",
       "      <td>-</td>\n",
       "    </tr>\n",
       "    <tr>\n",
       "      <th>138</th>\n",
       "      <td>85391</td>\n",
       "      <td>Maricopa County</td>\n",
       "      <td>1</td>\n",
       "      <td>NaN</td>\n",
       "      <td>NaN</td>\n",
       "    </tr>\n",
       "    <tr>\n",
       "      <th>139</th>\n",
       "      <td>85393</td>\n",
       "      <td>Maricopa County</td>\n",
       "      <td>1</td>\n",
       "      <td>NaN</td>\n",
       "      <td>NaN</td>\n",
       "    </tr>\n",
       "    <tr>\n",
       "      <th>140</th>\n",
       "      <td>85281</td>\n",
       "      <td>Tempe</td>\n",
       "      <td>445</td>\n",
       "      <td>0.328552</td>\n",
       "      <td>42545</td>\n",
       "    </tr>\n",
       "    <tr>\n",
       "      <th>141</th>\n",
       "      <td>85282</td>\n",
       "      <td>Tempe</td>\n",
       "      <td>304</td>\n",
       "      <td>0.133355</td>\n",
       "      <td>61700</td>\n",
       "    </tr>\n",
       "    <tr>\n",
       "      <th>142</th>\n",
       "      <td>85283</td>\n",
       "      <td>Tempe</td>\n",
       "      <td>114</td>\n",
       "      <td>0.153312</td>\n",
       "      <td>65738</td>\n",
       "    </tr>\n",
       "    <tr>\n",
       "      <th>143</th>\n",
       "      <td>85284</td>\n",
       "      <td>Tempe</td>\n",
       "      <td>7</td>\n",
       "      <td>0.035083</td>\n",
       "      <td>127500</td>\n",
       "    </tr>\n",
       "  </tbody>\n",
       "</table>\n",
       "</div>"
      ],
      "text/plain": [
       "     Zip code              PHA  Number of vouchers  pct_below_poverty  \\\n",
       "134     85261       Scottsdale                   1                NaN   \n",
       "135     85211  Maricopa County                   1                NaN   \n",
       "136     85293  Maricopa County                   1                NaN   \n",
       "137     85343  Maricopa County                   1           0.000000   \n",
       "138     85391  Maricopa County                   1                NaN   \n",
       "139     85393  Maricopa County                   1                NaN   \n",
       "140     85281            Tempe                 445           0.328552   \n",
       "141     85282            Tempe                 304           0.133355   \n",
       "142     85283            Tempe                 114           0.153312   \n",
       "143     85284            Tempe                   7           0.035083   \n",
       "\n",
       "    median_income  \n",
       "134           NaN  \n",
       "135           NaN  \n",
       "136           NaN  \n",
       "137             -  \n",
       "138           NaN  \n",
       "139           NaN  \n",
       "140         42545  \n",
       "141         61700  \n",
       "142         65738  \n",
       "143        127500  "
      ]
     },
     "execution_count": 58,
     "metadata": {},
     "output_type": "execute_result"
    }
   ],
   "source": [
    "vouchers.tail(10)"
   ]
  },
  {
   "cell_type": "code",
   "execution_count": 26,
   "id": "8b225fe0-6b2d-44c1-abcc-a593c2157e1b",
   "metadata": {},
   "outputs": [
    {
     "name": "stdout",
     "output_type": "stream",
     "text": [
      "22\n"
     ]
    }
   ],
   "source": [
    "#some of the zip codes are duplicates because mutliple PHA's cover them\n",
    "print(vouchers.duplicated(subset='Zip code').sum())"
   ]
  },
  {
   "cell_type": "code",
   "execution_count": 27,
   "id": "69540a51-436c-413d-9f7b-d52eca2d3138",
   "metadata": {},
   "outputs": [],
   "source": [
    "#consolidate by unique zip code\n",
    "vouchers_grouped = vouchers.groupby(by=['Zip code']).agg({'Number of vouchers':'sum','pct_below_poverty':'first','median_income':'first'})"
   ]
  },
  {
   "cell_type": "code",
   "execution_count": 28,
   "id": "743d9b50-b44b-497e-a478-4eaa7d93c63a",
   "metadata": {},
   "outputs": [],
   "source": [
    "#make sure zip code doesn't become an index column\n",
    "vouchers_grouped.reset_index(inplace=True)"
   ]
  },
  {
   "cell_type": "code",
   "execution_count": 29,
   "id": "4e43c11d-c9d9-4840-b03e-ce9077fa6e24",
   "metadata": {},
   "outputs": [
    {
     "data": {
      "text/html": [
       "<div>\n",
       "<style scoped>\n",
       "    .dataframe tbody tr th:only-of-type {\n",
       "        vertical-align: middle;\n",
       "    }\n",
       "\n",
       "    .dataframe tbody tr th {\n",
       "        vertical-align: top;\n",
       "    }\n",
       "\n",
       "    .dataframe thead th {\n",
       "        text-align: right;\n",
       "    }\n",
       "</style>\n",
       "<table border=\"1\" class=\"dataframe\">\n",
       "  <thead>\n",
       "    <tr style=\"text-align: right;\">\n",
       "      <th></th>\n",
       "      <th>Zip code</th>\n",
       "      <th>Number of vouchers</th>\n",
       "      <th>pct_below_poverty</th>\n",
       "      <th>median_income</th>\n",
       "    </tr>\n",
       "  </thead>\n",
       "  <tbody>\n",
       "    <tr>\n",
       "      <th>0</th>\n",
       "      <td>85003</td>\n",
       "      <td>132</td>\n",
       "      <td>0.192122</td>\n",
       "      <td>48306</td>\n",
       "    </tr>\n",
       "    <tr>\n",
       "      <th>1</th>\n",
       "      <td>85004</td>\n",
       "      <td>10</td>\n",
       "      <td>0.282776</td>\n",
       "      <td>52000</td>\n",
       "    </tr>\n",
       "    <tr>\n",
       "      <th>2</th>\n",
       "      <td>85006</td>\n",
       "      <td>259</td>\n",
       "      <td>0.296541</td>\n",
       "      <td>43567</td>\n",
       "    </tr>\n",
       "    <tr>\n",
       "      <th>3</th>\n",
       "      <td>85007</td>\n",
       "      <td>196</td>\n",
       "      <td>0.312386</td>\n",
       "      <td>35642</td>\n",
       "    </tr>\n",
       "    <tr>\n",
       "      <th>4</th>\n",
       "      <td>85008</td>\n",
       "      <td>418</td>\n",
       "      <td>0.210148</td>\n",
       "      <td>46724</td>\n",
       "    </tr>\n",
       "  </tbody>\n",
       "</table>\n",
       "</div>"
      ],
      "text/plain": [
       "   Zip code  Number of vouchers  pct_below_poverty median_income\n",
       "0     85003                 132           0.192122         48306\n",
       "1     85004                  10           0.282776         52000\n",
       "2     85006                 259           0.296541         43567\n",
       "3     85007                 196           0.312386         35642\n",
       "4     85008                 418           0.210148         46724"
      ]
     },
     "execution_count": 29,
     "metadata": {},
     "output_type": "execute_result"
    }
   ],
   "source": [
    "vouchers_grouped.head()"
   ]
  },
  {
   "cell_type": "code",
   "execution_count": 30,
   "id": "0bee02e4-cbdc-4430-a4b7-1e254cfcc7a8",
   "metadata": {},
   "outputs": [
    {
     "data": {
      "text/plain": [
       "(122, 4)"
      ]
     },
     "execution_count": 30,
     "metadata": {},
     "output_type": "execute_result"
    }
   ],
   "source": [
    "#check to make sure duplicates are out\n",
    "vouchers_grouped.shape"
   ]
  },
  {
   "cell_type": "code",
   "execution_count": 41,
   "id": "e5df63ef-c45d-4eda-850f-5e9faf9ec55b",
   "metadata": {},
   "outputs": [
    {
     "name": "stdout",
     "output_type": "stream",
     "text": [
      "0\n"
     ]
    }
   ],
   "source": [
    "print(vouchers_grouped.duplicated(subset='Zip code').sum())"
   ]
  },
  {
   "cell_type": "code",
   "execution_count": 32,
   "id": "e1c7f536-e2ed-4b31-889a-2f7c29435dac",
   "metadata": {},
   "outputs": [
    {
     "data": {
      "text/plain": [
       "11796"
      ]
     },
     "execution_count": 32,
     "metadata": {},
     "output_type": "execute_result"
    }
   ],
   "source": [
    "#check sum = 11,796\n",
    "vouchers_grouped['Number of vouchers'].sum()"
   ]
  },
  {
   "cell_type": "code",
   "execution_count": 34,
   "id": "1e3fccdf-771f-45d0-a98f-219d07dc6a80",
   "metadata": {},
   "outputs": [
    {
     "name": "stdout",
     "output_type": "stream",
     "text": [
      "<class 'pandas.core.frame.DataFrame'>\n",
      "RangeIndex: 122 entries, 0 to 121\n",
      "Data columns (total 4 columns):\n",
      " #   Column              Non-Null Count  Dtype  \n",
      "---  ------              --------------  -----  \n",
      " 0   Zip code            122 non-null    int64  \n",
      " 1   Number of vouchers  122 non-null    int64  \n",
      " 2   pct_below_poverty   113 non-null    float64\n",
      " 3   median_income       113 non-null    object \n",
      "dtypes: float64(1), int64(2), object(1)\n",
      "memory usage: 3.9+ KB\n"
     ]
    }
   ],
   "source": [
    "vouchers_grouped.info()"
   ]
  },
  {
   "cell_type": "markdown",
   "id": "35ec746a-015b-4128-8195-ef6ac6fb2f2d",
   "metadata": {},
   "source": [
    "### Merge vouchers with geopandas"
   ]
  },
  {
   "cell_type": "markdown",
   "id": "0dfca56f-e762-47a1-a6c6-bcf2f11a8cf4",
   "metadata": {},
   "source": [
    "Merge vouchers_grouped with metrophx_zips_shp. There are some zip codes in the voucher data that don't exist in the census zip codes. Then export it to a geojson to use in a mapping software. \n",
    "<br>\n",
    "Note: There are some duplicate zip codes in the metrophx_zips_shp file, but it should not matter for mapping. "
   ]
  },
  {
   "cell_type": "code",
   "execution_count": 52,
   "id": "398fcea4-075b-4533-a3dc-8054aa166663",
   "metadata": {},
   "outputs": [
    {
     "data": {
      "text/plain": [
       "{85220, 85293, 85321, 85325, 85346, 85347, 85357, 85391, 85393, 86363}"
      ]
     },
     "execution_count": 52,
     "metadata": {},
     "output_type": "execute_result"
    }
   ],
   "source": [
    "#check the zip codes that are in vouchers_grouped but not in metrophx_zips_shp\n",
    "set(vouchers_grouped['Zip code']).difference(set(metrophx_zips_shp['zip']))"
   ]
  },
  {
   "cell_type": "code",
   "execution_count": 43,
   "id": "1c1b1e04-b013-4914-9f31-1c91595f2513",
   "metadata": {},
   "outputs": [],
   "source": [
    "#outer join\n",
    "vouchers_shp = metrophx_zips_shp.merge(vouchers_grouped,how='outer',left_on='zip',right_on='Zip code')"
   ]
  },
  {
   "cell_type": "code",
   "execution_count": 54,
   "id": "03c0d0b5-6bc4-49a0-9411-976d2c3e5992",
   "metadata": {},
   "outputs": [
    {
     "data": {
      "text/plain": [
       "zip\n",
       "85142    2\n",
       "85212    2\n",
       "85143    2\n",
       "85120    2\n",
       "85119    2\n",
       "        ..\n",
       "85130    1\n",
       "85131    1\n",
       "85132    1\n",
       "85137    1\n",
       "85739    1\n",
       "Length: 221, dtype: int64"
      ]
     },
     "execution_count": 54,
     "metadata": {},
     "output_type": "execute_result"
    }
   ],
   "source": [
    "#check if there are duplicates\n",
    "metrophx_zips_shp.groupby('zip').size().sort_values(ascending=False)"
   ]
  },
  {
   "cell_type": "code",
   "execution_count": 55,
   "id": "27177df3-f1b9-4176-b3df-e21707bba6da",
   "metadata": {},
   "outputs": [
    {
     "data": {
      "text/plain": [
       "zip\n",
       "85119    2\n",
       "85120    2\n",
       "85139    2\n",
       "85142    2\n",
       "85143    2\n",
       "85212    2\n",
       "85248    2\n",
       "dtype: int64"
      ]
     },
     "execution_count": 55,
     "metadata": {},
     "output_type": "execute_result"
    }
   ],
   "source": [
    "#print all the duplicate zips\n",
    "metrophx_zips_shp.groupby('zip').size()[lambda x: x > 1] #inline function to return whether every item in the series is greater than 1"
   ]
  },
  {
   "cell_type": "code",
   "execution_count": 49,
   "id": "7ccace40-aace-4ecb-b850-c8090be3a446",
   "metadata": {},
   "outputs": [
    {
     "data": {
      "text/html": [
       "<div>\n",
       "<style scoped>\n",
       "    .dataframe tbody tr th:only-of-type {\n",
       "        vertical-align: middle;\n",
       "    }\n",
       "\n",
       "    .dataframe tbody tr th {\n",
       "        vertical-align: top;\n",
       "    }\n",
       "\n",
       "    .dataframe thead th {\n",
       "        text-align: right;\n",
       "    }\n",
       "</style>\n",
       "<table border=\"1\" class=\"dataframe\">\n",
       "  <thead>\n",
       "    <tr style=\"text-align: right;\">\n",
       "      <th></th>\n",
       "      <th>Zip code</th>\n",
       "      <th>Number of vouchers</th>\n",
       "      <th>pct_below_poverty</th>\n",
       "      <th>median_income</th>\n",
       "    </tr>\n",
       "  </thead>\n",
       "  <tbody>\n",
       "    <tr>\n",
       "      <th>40</th>\n",
       "      <td>85086</td>\n",
       "      <td>49</td>\n",
       "      <td>0.03337</td>\n",
       "      <td>103122</td>\n",
       "    </tr>\n",
       "  </tbody>\n",
       "</table>\n",
       "</div>"
      ],
      "text/plain": [
       "    Zip code  Number of vouchers  pct_below_poverty median_income\n",
       "40     85086                  49            0.03337        103122"
      ]
     },
     "execution_count": 49,
     "metadata": {},
     "output_type": "execute_result"
    }
   ],
   "source": [
    "vouchers_grouped[vouchers_grouped['Zip code']==85086]"
   ]
  },
  {
   "cell_type": "code",
   "execution_count": 50,
   "id": "b23cffb4-63c8-4586-9c21-9c3e4e7124f7",
   "metadata": {},
   "outputs": [
    {
     "data": {
      "text/html": [
       "<div>\n",
       "<style scoped>\n",
       "    .dataframe tbody tr th:only-of-type {\n",
       "        vertical-align: middle;\n",
       "    }\n",
       "\n",
       "    .dataframe tbody tr th {\n",
       "        vertical-align: top;\n",
       "    }\n",
       "\n",
       "    .dataframe thead th {\n",
       "        text-align: right;\n",
       "    }\n",
       "</style>\n",
       "<table border=\"1\" class=\"dataframe\">\n",
       "  <thead>\n",
       "    <tr style=\"text-align: right;\">\n",
       "      <th></th>\n",
       "      <th>ZCTA5CE20</th>\n",
       "      <th>GEOID20</th>\n",
       "      <th>CLASSFP20</th>\n",
       "      <th>MTFCC20</th>\n",
       "      <th>FUNCSTAT20</th>\n",
       "      <th>ALAND20</th>\n",
       "      <th>AWATER20</th>\n",
       "      <th>INTPTLAT20</th>\n",
       "      <th>INTPTLON20</th>\n",
       "      <th>geometry</th>\n",
       "      <th>...</th>\n",
       "      <th>usps_zip_pref_city</th>\n",
       "      <th>usps_zip_pref_state</th>\n",
       "      <th>res_ratio</th>\n",
       "      <th>bus_ratio</th>\n",
       "      <th>oth_ratio</th>\n",
       "      <th>tot_ratio</th>\n",
       "      <th>Zip code</th>\n",
       "      <th>Number of vouchers</th>\n",
       "      <th>pct_below_poverty</th>\n",
       "      <th>median_income</th>\n",
       "    </tr>\n",
       "  </thead>\n",
       "  <tbody>\n",
       "    <tr>\n",
       "      <th>149</th>\n",
       "      <td>85086.0</td>\n",
       "      <td>85086</td>\n",
       "      <td>B5</td>\n",
       "      <td>G6350</td>\n",
       "      <td>S</td>\n",
       "      <td>158882534.0</td>\n",
       "      <td>112677.0</td>\n",
       "      <td>+33.8225147</td>\n",
       "      <td>-112.1302858</td>\n",
       "      <td>POLYGON ((-112.24163 33.80515, -112.24142 33.8...</td>\n",
       "      <td>...</td>\n",
       "      <td>PHOENIX</td>\n",
       "      <td>AZ</td>\n",
       "      <td>1.0</td>\n",
       "      <td>1.0</td>\n",
       "      <td>1.0</td>\n",
       "      <td>1.0</td>\n",
       "      <td>85086.0</td>\n",
       "      <td>49.0</td>\n",
       "      <td>0.03337</td>\n",
       "      <td>103122</td>\n",
       "    </tr>\n",
       "  </tbody>\n",
       "</table>\n",
       "<p>1 rows × 22 columns</p>\n",
       "</div>"
      ],
      "text/plain": [
       "     ZCTA5CE20 GEOID20 CLASSFP20 MTFCC20 FUNCSTAT20      ALAND20  AWATER20  \\\n",
       "149    85086.0   85086        B5   G6350          S  158882534.0  112677.0   \n",
       "\n",
       "      INTPTLAT20    INTPTLON20  \\\n",
       "149  +33.8225147  -112.1302858   \n",
       "\n",
       "                                              geometry  ...  \\\n",
       "149  POLYGON ((-112.24163 33.80515, -112.24142 33.8...  ...   \n",
       "\n",
       "     usps_zip_pref_city  usps_zip_pref_state res_ratio bus_ratio  oth_ratio  \\\n",
       "149             PHOENIX                   AZ       1.0       1.0        1.0   \n",
       "\n",
       "     tot_ratio  Zip code  Number of vouchers  pct_below_poverty  median_income  \n",
       "149        1.0   85086.0                49.0            0.03337         103122  \n",
       "\n",
       "[1 rows x 22 columns]"
      ]
     },
     "execution_count": 50,
     "metadata": {},
     "output_type": "execute_result"
    }
   ],
   "source": [
    "vouchers_shp[vouchers_shp['Zip code']==85086]"
   ]
  },
  {
   "cell_type": "code",
   "execution_count": 110,
   "id": "a7288b7a-9908-468c-bd0c-ed7d96d4e95e",
   "metadata": {},
   "outputs": [
    {
     "data": {
      "text/plain": [
       "(238, 22)"
      ]
     },
     "execution_count": 110,
     "metadata": {},
     "output_type": "execute_result"
    }
   ],
   "source": [
    "vouchers_shp.shape"
   ]
  },
  {
   "cell_type": "code",
   "execution_count": 112,
   "id": "246a8be1-3a85-4c41-bff1-042b0fef187b",
   "metadata": {},
   "outputs": [
    {
     "name": "stdout",
     "output_type": "stream",
     "text": [
      "<class 'geopandas.geodataframe.GeoDataFrame'>\n",
      "Int64Index: 238 entries, 0 to 237\n",
      "Data columns (total 22 columns):\n",
      " #   Column               Non-Null Count  Dtype   \n",
      "---  ------               --------------  -----   \n",
      " 0   ZCTA5CE20            175 non-null    float64 \n",
      " 1   GEOID20              175 non-null    object  \n",
      " 2   CLASSFP20            175 non-null    object  \n",
      " 3   MTFCC20              175 non-null    object  \n",
      " 4   FUNCSTAT20           175 non-null    object  \n",
      " 5   ALAND20              175 non-null    float64 \n",
      " 6   AWATER20             175 non-null    float64 \n",
      " 7   INTPTLAT20           175 non-null    object  \n",
      " 8   INTPTLON20           175 non-null    object  \n",
      " 9   geometry             175 non-null    geometry\n",
      " 10  zip                  228 non-null    float64 \n",
      " 11  county               228 non-null    float64 \n",
      " 12  usps_zip_pref_city   228 non-null    object  \n",
      " 13  usps_zip_pref_state  228 non-null    object  \n",
      " 14  res_ratio            228 non-null    float64 \n",
      " 15  bus_ratio            228 non-null    float64 \n",
      " 16  oth_ratio            228 non-null    float64 \n",
      " 17  tot_ratio            228 non-null    float64 \n",
      " 18  Zip code             125 non-null    float64 \n",
      " 19  Number of vouchers   125 non-null    float64 \n",
      " 20  pct_below_poverty    116 non-null    float64 \n",
      " 21  median_income        116 non-null    object  \n",
      "dtypes: float64(12), geometry(1), object(9)\n",
      "memory usage: 42.8+ KB\n"
     ]
    }
   ],
   "source": [
    "vouchers_shp.info()"
   ]
  },
  {
   "cell_type": "code",
   "execution_count": null,
   "id": "5c942f62-3510-4fde-a841-9e74157b675c",
   "metadata": {},
   "outputs": [],
   "source": [
    "#can also export geodataframe to pandas to inspect\n",
    "#https://stackoverflow.com/questions/49504886/converting-a-geopandas-geodataframe-into-a-pandas-dataframe/49505622#49505622"
   ]
  },
  {
   "cell_type": "code",
   "execution_count": 95,
   "id": "9de67c80-d2bf-4232-8d47-44c209344bee",
   "metadata": {},
   "outputs": [
    {
     "data": {
      "text/plain": [
       "11869.0"
      ]
     },
     "execution_count": 95,
     "metadata": {},
     "output_type": "execute_result"
    }
   ],
   "source": [
    "#This is okay for the map, because of duplicates 73 more vouchers\n",
    "vouchers_shp['Number of vouchers'].sum()"
   ]
  },
  {
   "cell_type": "code",
   "execution_count": 82,
   "id": "9b87a69a-0bf4-4c50-adb2-e59a1f250205",
   "metadata": {},
   "outputs": [
    {
     "data": {
      "text/html": [
       "<div>\n",
       "<style scoped>\n",
       "    .dataframe tbody tr th:only-of-type {\n",
       "        vertical-align: middle;\n",
       "    }\n",
       "\n",
       "    .dataframe tbody tr th {\n",
       "        vertical-align: top;\n",
       "    }\n",
       "\n",
       "    .dataframe thead th {\n",
       "        text-align: right;\n",
       "    }\n",
       "</style>\n",
       "<table border=\"1\" class=\"dataframe\">\n",
       "  <thead>\n",
       "    <tr style=\"text-align: right;\">\n",
       "      <th></th>\n",
       "      <th>ZCTA5CE20</th>\n",
       "      <th>GEOID20</th>\n",
       "      <th>CLASSFP20</th>\n",
       "      <th>MTFCC20</th>\n",
       "      <th>FUNCSTAT20</th>\n",
       "      <th>ALAND20</th>\n",
       "      <th>AWATER20</th>\n",
       "      <th>INTPTLAT20</th>\n",
       "      <th>INTPTLON20</th>\n",
       "      <th>geometry</th>\n",
       "      <th>...</th>\n",
       "      <th>county</th>\n",
       "      <th>usps_zip_pref_city</th>\n",
       "      <th>usps_zip_pref_state</th>\n",
       "      <th>res_ratio</th>\n",
       "      <th>bus_ratio</th>\n",
       "      <th>oth_ratio</th>\n",
       "      <th>tot_ratio</th>\n",
       "      <th>Number of vouchers</th>\n",
       "      <th>pct_below_poverty</th>\n",
       "      <th>median_income</th>\n",
       "    </tr>\n",
       "  </thead>\n",
       "  <tbody>\n",
       "    <tr>\n",
       "      <th>78</th>\n",
       "      <td>85301.0</td>\n",
       "      <td>85301</td>\n",
       "      <td>B5</td>\n",
       "      <td>G6350</td>\n",
       "      <td>S</td>\n",
       "      <td>24118695.0</td>\n",
       "      <td>5291.0</td>\n",
       "      <td>+33.5337295</td>\n",
       "      <td>-112.1785400</td>\n",
       "      <td>MULTIPOLYGON (((-112.20736 33.53680, -112.2073...</td>\n",
       "      <td>...</td>\n",
       "      <td>4013.0</td>\n",
       "      <td>GLENDALE</td>\n",
       "      <td>AZ</td>\n",
       "      <td>1.0</td>\n",
       "      <td>1.0</td>\n",
       "      <td>1.0</td>\n",
       "      <td>1.0</td>\n",
       "      <td>621.0</td>\n",
       "      <td>0.311492</td>\n",
       "      <td>38454</td>\n",
       "    </tr>\n",
       "  </tbody>\n",
       "</table>\n",
       "<p>1 rows × 21 columns</p>\n",
       "</div>"
      ],
      "text/plain": [
       "    ZCTA5CE20 GEOID20 CLASSFP20 MTFCC20 FUNCSTAT20     ALAND20  AWATER20  \\\n",
       "78    85301.0   85301        B5   G6350          S  24118695.0    5291.0   \n",
       "\n",
       "     INTPTLAT20    INTPTLON20  \\\n",
       "78  +33.5337295  -112.1785400   \n",
       "\n",
       "                                             geometry  ...  county  \\\n",
       "78  MULTIPOLYGON (((-112.20736 33.53680, -112.2073...  ...  4013.0   \n",
       "\n",
       "    usps_zip_pref_city usps_zip_pref_state res_ratio  bus_ratio  oth_ratio  \\\n",
       "78            GLENDALE                  AZ       1.0        1.0        1.0   \n",
       "\n",
       "    tot_ratio  Number of vouchers  pct_below_poverty  median_income  \n",
       "78        1.0               621.0           0.311492          38454  \n",
       "\n",
       "[1 rows x 21 columns]"
      ]
     },
     "execution_count": 82,
     "metadata": {},
     "output_type": "execute_result"
    }
   ],
   "source": [
    "vouchers_shp.query('zip == 85301')"
   ]
  },
  {
   "cell_type": "markdown",
   "id": "fd43f601-e038-48aa-9f6b-4845af92dbb4",
   "metadata": {},
   "source": [
    "### Export vouchers data merged w/ census data into a csv"
   ]
  },
  {
   "cell_type": "code",
   "execution_count": 59,
   "id": "618b65bf-77f1-4600-89ce-1deec8665e48",
   "metadata": {},
   "outputs": [],
   "source": [
    "#save in my data folder\n",
    "vouchers_grouped.to_csv(\"/Users/amyqin/Documents/data/processed/vouchers_census_data.csv\", index=False)"
   ]
  },
  {
   "cell_type": "code",
   "execution_count": null,
   "id": "3bffc8df-609d-423a-9d54-03bcc9f63eaf",
   "metadata": {},
   "outputs": [],
   "source": []
  }
 ],
 "metadata": {
  "kernelspec": {
   "display_name": "Python (quick-analyses)",
   "language": "python",
   "name": "quick-analyses"
  },
  "language_info": {
   "codemirror_mode": {
    "name": "ipython",
    "version": 3
   },
   "file_extension": ".py",
   "mimetype": "text/x-python",
   "name": "python",
   "nbconvert_exporter": "python",
   "pygments_lexer": "ipython3",
   "version": "3.10.4"
  }
 },
 "nbformat": 4,
 "nbformat_minor": 5
}
