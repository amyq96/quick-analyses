{
 "cells": [
  {
   "cell_type": "markdown",
   "id": "fc795a21-f815-4917-b6ed-dc2e8b3779d7",
   "metadata": {},
   "source": [
    "# Clean Census ZCTA Shapefiles\n",
    "\n",
    "This notebook filters ZCTA shapefiles to the Phoenix metro area, which is Maricopa and Pinal counties"
   ]
  },
  {
   "cell_type": "code",
   "execution_count": 1,
   "id": "75ab1a38-824e-48cb-8c28-f92a6b869a25",
   "metadata": {},
   "outputs": [],
   "source": [
    "import pandas as pd\n",
    "import numpy as np\n",
    "import geopandas as gpd"
   ]
  },
  {
   "cell_type": "code",
   "execution_count": null,
   "id": "d76a4b05-253e-4194-a883-4f58facfe821",
   "metadata": {},
   "outputs": [],
   "source": []
  }
 ],
 "metadata": {
  "kernelspec": {
   "display_name": "Python (quick-analyses)",
   "language": "python",
   "name": "quick-analyses"
  },
  "language_info": {
   "codemirror_mode": {
    "name": "ipython",
    "version": 3
   },
   "file_extension": ".py",
   "mimetype": "text/x-python",
   "name": "python",
   "nbconvert_exporter": "python",
   "pygments_lexer": "ipython3",
   "version": "3.10.4"
  }
 },
 "nbformat": 4,
 "nbformat_minor": 5
}
